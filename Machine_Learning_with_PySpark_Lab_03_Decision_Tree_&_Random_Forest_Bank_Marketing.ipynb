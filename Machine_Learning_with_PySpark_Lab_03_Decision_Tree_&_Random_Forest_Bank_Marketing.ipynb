{
  "nbformat": 4,
  "nbformat_minor": 0,
  "metadata": {
    "colab": {
      "provenance": [],
      "toc_visible": true
    },
    "kernelspec": {
      "name": "python3",
      "display_name": "Python 3"
    }
  },
  "cells": [
    {
      "cell_type": "markdown",
      "source": [
        "#Decision tree"
      ],
      "metadata": {
        "id": "mWTw7zAEB5IH"
      }
    },
    {
      "cell_type": "markdown",
      "source": [
        "##Install pyspark"
      ],
      "metadata": {
        "id": "z5_cP7LXqhcw"
      }
    },
    {
      "cell_type": "code",
      "metadata": {
        "id": "gk6ioPmCLKJT",
        "colab": {
          "base_uri": "https://localhost:8080/"
        },
        "outputId": "713f4da2-20bc-467a-fa96-fbff5cd597e6"
      },
      "source": [
        "%pip install pyspark"
      ],
      "execution_count": null,
      "outputs": [
        {
          "output_type": "stream",
          "name": "stdout",
          "text": [
            "Looking in indexes: https://pypi.org/simple, https://us-python.pkg.dev/colab-wheels/public/simple/\n",
            "Requirement already satisfied: pyspark in /usr/local/lib/python3.10/dist-packages (3.4.0)\n",
            "Requirement already satisfied: py4j==0.10.9.7 in /usr/local/lib/python3.10/dist-packages (from pyspark) (0.10.9.7)\n"
          ]
        }
      ]
    },
    {
      "cell_type": "markdown",
      "source": [
        "##Import packages"
      ],
      "metadata": {
        "id": "RLf0ua6Yqkeo"
      }
    },
    {
      "cell_type": "code",
      "metadata": {
        "id": "amcJyQ6ELPbi"
      },
      "source": [
        "import pyspark\n",
        "from pyspark.sql import SparkSession\n",
        "\n",
        "#from pyspark.ml.linalg import Vectors\n",
        "from pyspark.ml import Pipeline\n",
        "from pyspark.ml.evaluation import MulticlassClassificationEvaluator\n",
        "from pyspark.ml.classification import DecisionTreeClassifier\n",
        "\n",
        "from pyspark.ml.feature import StringIndexer, OneHotEncoder, VectorAssembler\n",
        "from pyspark.sql.functions import col, when, isnull\n",
        "\n",
        "import seaborn as sns\n",
        "import matplotlib.pyplot as plt\n",
        "import pandas as pd\n",
        "import numpy as np\n",
        "\n",
        "from sklearn.metrics import confusion_matrix\n"
      ],
      "execution_count": null,
      "outputs": []
    },
    {
      "cell_type": "markdown",
      "source": [
        "Create spark session"
      ],
      "metadata": {
        "id": "Venc6wb3Myaj"
      }
    },
    {
      "cell_type": "code",
      "source": [
        "spark = SparkSession.builder.appName('MlLib - Decision Tree').getOrCreate()"
      ],
      "metadata": {
        "id": "k1v7O7ZqMwrb"
      },
      "execution_count": null,
      "outputs": []
    },
    {
      "cell_type": "markdown",
      "source": [
        "##Download dan upload dataset\n",
        "\n",
        "Dokumentasi dataset dapat dilihat [di sini](https://archive.ics.uci.edu/ml/datasets/Bank+Marketing)\n",
        "\n",
        "Deskripsi kolom adalah sebagai berikut:\n",
        "\n",
        "Variabel input :\n",
        "1. age (numeric)\n",
        "2. job : type of job (categorical: `'admin.','blue-collar','entrepreneur','housemaid','management','retired','self-employed','services','student','technician','unemployed','unknown'`)\n",
        "3. marital : marital status (categorical: `'divorced','married','single','unknown'`; note: `'divorced'` means divorced or widowed)\n",
        "4. education (categorical: `'basic.4y','basic.6y','basic.9y','high.school','illiterate','professional.course','university.degree','unknown'`)\n",
        "5. default: has credit in default? (categorical: `'no','yes','unknown'`)\n",
        "6. housing: has housing loan? (categorical: `'no','yes','unknown'`)\n",
        "7. loan: has personal loan? (categorical: `'no','yes','unknown'`)\n",
        "8. contact: contact communication type (categorical: `'cellular','telephone'`)\n",
        "9. month: last contact month of year (categorical: `'jan', 'feb', 'mar', ..., 'nov', 'dec'`)\n",
        "10. day_of_week: last contact day of the week (categorical: `'mon','tue','wed','thu','fri'`)\n",
        "11. duration: last contact duration, in seconds (numeric). Important note: this attribute highly affects the output target (e.g., if duration=0 then y='no'). Yet, the duration is not known before a call is performed. Also, after the end of the call y is obviously known. Thus, this input should only be included for benchmark purposes and should be discarded if the intention is to have a realistic predictive model.\n",
        "12. campaign: number of contacts performed during this campaign and for this client (numeric, includes last contact)\n",
        "13. pdays: number of days that passed by after the client was last contacted from a previous campaign (numeric; 999 means client was not previously contacted)\n",
        "14. previous: number of contacts performed before this campaign and for this client (numeric)\n",
        "15. poutcome: outcome of the previous marketing campaign (categorical: `'failure','nonexistent','success'`)\n",
        "\n",
        "Target :\n",
        "21. deposit. has the client subscribed a term deposit? (binary: 'yes','no')"
      ],
      "metadata": {
        "id": "sNl2cgjYB6W7"
      }
    },
    {
      "cell_type": "code",
      "metadata": {
        "id": "cmJ72YZlLRqM",
        "colab": {
          "base_uri": "https://localhost:8080/"
        },
        "outputId": "ea9e84b3-0427-4e2a-d006-0aa92b275b3e"
      },
      "source": [
        "!wget https://raw.githubusercontent.com/urfie/DataAnalytics/main/bank.csv"
      ],
      "execution_count": null,
      "outputs": [
        {
          "output_type": "stream",
          "name": "stdout",
          "text": [
            "--2023-06-22 18:15:46--  https://raw.githubusercontent.com/urfie/DataAnalytics/main/bank.csv\n",
            "Resolving raw.githubusercontent.com (raw.githubusercontent.com)... 185.199.108.133, 185.199.109.133, 185.199.110.133, ...\n",
            "Connecting to raw.githubusercontent.com (raw.githubusercontent.com)|185.199.108.133|:443... connected.\n",
            "HTTP request sent, awaiting response... 200 OK\n",
            "Length: 292303 (285K) [text/plain]\n",
            "Saving to: ‘bank.csv.2’\n",
            "\n",
            "\rbank.csv.2            0%[                    ]       0  --.-KB/s               \rbank.csv.2          100%[===================>] 285.45K  --.-KB/s    in 0.02s   \n",
            "\n",
            "2023-06-22 18:15:46 (11.7 MB/s) - ‘bank.csv.2’ saved [292303/292303]\n",
            "\n"
          ]
        }
      ]
    },
    {
      "cell_type": "code",
      "source": [
        "df = spark.read.csv(path='bank.csv',\n",
        "                    sep=',',\n",
        "                    header = True,\n",
        "                    inferSchema = True)"
      ],
      "metadata": {
        "id": "9B28IWlcKKo7"
      },
      "execution_count": null,
      "outputs": []
    },
    {
      "cell_type": "code",
      "source": [
        "df.show(5)"
      ],
      "metadata": {
        "id": "GQcPbGcrXLql",
        "colab": {
          "base_uri": "https://localhost:8080/"
        },
        "outputId": "25b2efb5-1b4a-40fc-be0a-92d8c3a10f47"
      },
      "execution_count": null,
      "outputs": [
        {
          "output_type": "stream",
          "name": "stdout",
          "text": [
            "+----+---+-----------+-------+---------+-------+-------+-------+----+--------+---+-----+--------+--------+-----+--------+--------+-------+\n",
            "| _c0|age|        job|marital|education|default|balance|housing|loan| contact|day|month|duration|campaign|pdays|previous|poutcome|deposit|\n",
            "+----+---+-----------+-------+---------+-------+-------+-------+----+--------+---+-----+--------+--------+-----+--------+--------+-------+\n",
            "|8422| 31|     admin.| single|secondary|     no|    554|    yes|  no|cellular|  5|  feb|      94|       1|   -1|       0| unknown|     no|\n",
            "|9226| 43|blue-collar|married|secondary|     no|    514|    yes| yes|cellular| 20|  apr|      34|       2|   -1|       0| unknown|     no|\n",
            "|8162| 26|blue-collar| single|secondary|     no|    277|     no|  no| unknown| 14|  may|     514|       2|   -1|       0| unknown|     no|\n",
            "|4337| 39|   services| single|secondary|     no|     91|     no|  no|cellular|  3|  sep|     213|       1|  185|       1| success|    yes|\n",
            "|2438| 40| management|married| tertiary|     no|      0|     no|  no|cellular|  6|  aug|     131|       2|   98|       6| success|    yes|\n",
            "+----+---+-----------+-------+---------+-------+-------+-------+----+--------+---+-----+--------+--------+-----+--------+--------+-------+\n",
            "only showing top 5 rows\n",
            "\n"
          ]
        }
      ]
    },
    {
      "cell_type": "markdown",
      "source": [
        "##Explore dataset"
      ],
      "metadata": {
        "id": "ROljO0xoB7yt"
      }
    },
    {
      "cell_type": "markdown",
      "source": [
        "Jumlah record"
      ],
      "metadata": {
        "id": "r9KCTTJ6KJWF"
      }
    },
    {
      "cell_type": "code",
      "source": [
        "df.count()"
      ],
      "metadata": {
        "id": "u_3Xi11c0a8J",
        "colab": {
          "base_uri": "https://localhost:8080/"
        },
        "outputId": "616e19c7-90a8-42b1-db39-735ea9d02aa2"
      },
      "execution_count": null,
      "outputs": [
        {
          "output_type": "execute_result",
          "data": {
            "text/plain": [
              "3349"
            ]
          },
          "metadata": {},
          "execution_count": 7
        }
      ]
    },
    {
      "cell_type": "markdown",
      "source": [
        "Tampilkan skema dan contoh records"
      ],
      "metadata": {
        "id": "LqRdjhQJKLtR"
      }
    },
    {
      "cell_type": "code",
      "metadata": {
        "id": "RxvUSjwBLn5G",
        "colab": {
          "base_uri": "https://localhost:8080/"
        },
        "outputId": "4e7edd9e-66e2-477a-f94f-0c7c7b7b7b7f"
      },
      "source": [
        "df.printSchema()\n",
        "df.show(5)"
      ],
      "execution_count": null,
      "outputs": [
        {
          "output_type": "stream",
          "name": "stdout",
          "text": [
            "root\n",
            " |-- _c0: integer (nullable = true)\n",
            " |-- age: integer (nullable = true)\n",
            " |-- job: string (nullable = true)\n",
            " |-- marital: string (nullable = true)\n",
            " |-- education: string (nullable = true)\n",
            " |-- default: string (nullable = true)\n",
            " |-- balance: integer (nullable = true)\n",
            " |-- housing: string (nullable = true)\n",
            " |-- loan: string (nullable = true)\n",
            " |-- contact: string (nullable = true)\n",
            " |-- day: integer (nullable = true)\n",
            " |-- month: string (nullable = true)\n",
            " |-- duration: integer (nullable = true)\n",
            " |-- campaign: integer (nullable = true)\n",
            " |-- pdays: integer (nullable = true)\n",
            " |-- previous: integer (nullable = true)\n",
            " |-- poutcome: string (nullable = true)\n",
            " |-- deposit: string (nullable = true)\n",
            "\n",
            "+----+---+-----------+-------+---------+-------+-------+-------+----+--------+---+-----+--------+--------+-----+--------+--------+-------+\n",
            "| _c0|age|        job|marital|education|default|balance|housing|loan| contact|day|month|duration|campaign|pdays|previous|poutcome|deposit|\n",
            "+----+---+-----------+-------+---------+-------+-------+-------+----+--------+---+-----+--------+--------+-----+--------+--------+-------+\n",
            "|8422| 31|     admin.| single|secondary|     no|    554|    yes|  no|cellular|  5|  feb|      94|       1|   -1|       0| unknown|     no|\n",
            "|9226| 43|blue-collar|married|secondary|     no|    514|    yes| yes|cellular| 20|  apr|      34|       2|   -1|       0| unknown|     no|\n",
            "|8162| 26|blue-collar| single|secondary|     no|    277|     no|  no| unknown| 14|  may|     514|       2|   -1|       0| unknown|     no|\n",
            "|4337| 39|   services| single|secondary|     no|     91|     no|  no|cellular|  3|  sep|     213|       1|  185|       1| success|    yes|\n",
            "|2438| 40| management|married| tertiary|     no|      0|     no|  no|cellular|  6|  aug|     131|       2|   98|       6| success|    yes|\n",
            "+----+---+-----------+-------+---------+-------+-------+-------+----+--------+---+-----+--------+--------+-----+--------+--------+-------+\n",
            "only showing top 5 rows\n",
            "\n"
          ]
        }
      ]
    },
    {
      "cell_type": "markdown",
      "source": [
        "Rangkuman statistik"
      ],
      "metadata": {
        "id": "oLa1UEzaB83N"
      }
    },
    {
      "cell_type": "code",
      "source": [
        "df.describe().show()"
      ],
      "metadata": {
        "id": "bewcMQ0XDnaq",
        "colab": {
          "base_uri": "https://localhost:8080/"
        },
        "outputId": "cb5c098c-00ce-4f2a-92ed-23f7f3f6385c"
      },
      "execution_count": null,
      "outputs": [
        {
          "output_type": "stream",
          "name": "stdout",
          "text": [
            "+-------+-----------------+------------------+-------+--------+---------+-------+-----------------+-------+----+--------+-----------------+-----+-----------------+------------------+------------------+------------------+--------+-------+\n",
            "|summary|              _c0|               age|    job| marital|education|default|          balance|housing|loan| contact|              day|month|         duration|          campaign|             pdays|          previous|poutcome|deposit|\n",
            "+-------+-----------------+------------------+-------+--------+---------+-------+-----------------+-------+----+--------+-----------------+-----+-----------------+------------------+------------------+------------------+--------+-------+\n",
            "|  count|             3349|              3349|   3349|    3349|     3349|   3349|             3349|   3349|3349|    3349|             3349| 3349|             3349|              3349|              3349|              3349|    3349|   3349|\n",
            "|   mean|5528.981785607644|41.531501940877874|   null|    null|     null|   null|1532.237981487011|   null|null|    null|15.49507315616602| null|376.6273514481935|2.4741713944461035|49.401612421618395|0.8124813377127501|    null|   null|\n",
            "| stddev|3210.811075633021|11.950314385086314|   null|    null|     null|   null|3071.495488753632|   null|null|    null|8.460484589806182| null|355.9896871931485|2.5621903796756396|105.10297168442712| 2.167165525703004|    null|   null|\n",
            "|    min|                4|                19| admin.|divorced|  primary|     no|            -1137|     no|  no|cellular|                1|  apr|                2|                 1|                -1|                 0| failure|     no|\n",
            "|    max|            11158|                92|unknown|  single|  unknown|    yes|            81204|    yes| yes| unknown|               31|  sep|             3102|                31|               782|                40| unknown|    yes|\n",
            "+-------+-----------------+------------------+-------+--------+---------+-------+-----------------+-------+----+--------+-----------------+-----+-----------------+------------------+------------------+------------------+--------+-------+\n",
            "\n"
          ]
        }
      ]
    },
    {
      "cell_type": "markdown",
      "source": [
        "##Clean Dataset"
      ],
      "metadata": {
        "id": "y8ukc_OXUNZH"
      }
    },
    {
      "cell_type": "markdown",
      "source": [
        "Cek null value"
      ],
      "metadata": {
        "id": "R87tSVctRrGN"
      }
    },
    {
      "cell_type": "code",
      "source": [
        "for i in df.columns:\n",
        "  print(i,' \\t:',df.where(col(i).isNull()).count(), 'records')"
      ],
      "metadata": {
        "id": "i_HHLQViOzmM",
        "colab": {
          "base_uri": "https://localhost:8080/"
        },
        "outputId": "63f91853-b306-4ae4-f703-d37bd19e70e9"
      },
      "execution_count": null,
      "outputs": [
        {
          "output_type": "stream",
          "name": "stdout",
          "text": [
            "_c0  \t: 0 records\n",
            "age  \t: 0 records\n",
            "job  \t: 0 records\n",
            "marital  \t: 0 records\n",
            "education  \t: 0 records\n",
            "default  \t: 0 records\n",
            "balance  \t: 0 records\n",
            "housing  \t: 0 records\n",
            "loan  \t: 0 records\n",
            "contact  \t: 0 records\n",
            "day  \t: 0 records\n",
            "month  \t: 0 records\n",
            "duration  \t: 0 records\n",
            "campaign  \t: 0 records\n",
            "pdays  \t: 0 records\n",
            "previous  \t: 0 records\n",
            "poutcome  \t: 0 records\n",
            "deposit  \t: 0 records\n"
          ]
        }
      ]
    },
    {
      "cell_type": "markdown",
      "source": [
        "##Transform dataset"
      ],
      "metadata": {
        "id": "5xZJdl0pxHA3"
      }
    },
    {
      "cell_type": "markdown",
      "metadata": {
        "id": "DXoE0Wt5MD3J"
      },
      "source": [
        "###Transform label"
      ]
    },
    {
      "cell_type": "markdown",
      "source": [
        "Kita akan menambahkan label berdasarkan kolom `deposit`, yaitu 1 jika `deposit` = `Yes` dan 0 jika `No`."
      ],
      "metadata": {
        "id": "XUb796SdKx-m"
      }
    },
    {
      "cell_type": "code",
      "source": [
        "df = df.withColumn('label', when(col('deposit')==\"no\", 0).otherwise(1))\n",
        "df.show(5)"
      ],
      "metadata": {
        "id": "usim0cEPjHW2",
        "colab": {
          "base_uri": "https://localhost:8080/"
        },
        "outputId": "bef3d69e-d212-4c8a-8a59-511b92d77d73"
      },
      "execution_count": null,
      "outputs": [
        {
          "output_type": "stream",
          "name": "stdout",
          "text": [
            "+----+---+-----------+-------+---------+-------+-------+-------+----+--------+---+-----+--------+--------+-----+--------+--------+-------+-----+\n",
            "| _c0|age|        job|marital|education|default|balance|housing|loan| contact|day|month|duration|campaign|pdays|previous|poutcome|deposit|label|\n",
            "+----+---+-----------+-------+---------+-------+-------+-------+----+--------+---+-----+--------+--------+-----+--------+--------+-------+-----+\n",
            "|8422| 31|     admin.| single|secondary|     no|    554|    yes|  no|cellular|  5|  feb|      94|       1|   -1|       0| unknown|     no|    0|\n",
            "|9226| 43|blue-collar|married|secondary|     no|    514|    yes| yes|cellular| 20|  apr|      34|       2|   -1|       0| unknown|     no|    0|\n",
            "|8162| 26|blue-collar| single|secondary|     no|    277|     no|  no| unknown| 14|  may|     514|       2|   -1|       0| unknown|     no|    0|\n",
            "|4337| 39|   services| single|secondary|     no|     91|     no|  no|cellular|  3|  sep|     213|       1|  185|       1| success|    yes|    1|\n",
            "|2438| 40| management|married| tertiary|     no|      0|     no|  no|cellular|  6|  aug|     131|       2|   98|       6| success|    yes|    1|\n",
            "+----+---+-----------+-------+---------+-------+-------+-------+----+--------+---+-----+--------+--------+-----+--------+--------+-------+-----+\n",
            "only showing top 5 rows\n",
            "\n"
          ]
        }
      ]
    },
    {
      "cell_type": "markdown",
      "source": [
        "###Encode features"
      ],
      "metadata": {
        "id": "YwARy2djCM67"
      }
    },
    {
      "cell_type": "markdown",
      "source": [
        "MLlib model membutuhkan input bertipe numerik, sehingga variabel kategorik harus di-encoding/ditransformasi menjadi variabel numerik sebelum digunakan untuk training maupun testing. Proses ini disebut juga dengan *encoding*.\n",
        "\n",
        "Metode yang banyak dilakukan adalah *dummy encoding*, yaitu mentransformasi variabel kategorik berkardinal N menjadi binary string berukuran N-1."
      ],
      "metadata": {
        "id": "1A3ylBVEVDvN"
      }
    },
    {
      "cell_type": "code",
      "source": [
        "inputColNames =  ['job','marital','education','default','housing','loan']\n",
        "continuousColNames = ['age','balance','campaign','pdays','duration']\n",
        "labelCol = 'label'"
      ],
      "metadata": {
        "id": "fGs2C7thWXyc"
      },
      "execution_count": null,
      "outputs": []
    },
    {
      "cell_type": "markdown",
      "source": [
        "Untuk melakukan proses tersebut, kita buat pipeline encoding yang terdiri dari : `StringIndexer` --> `OneHotEncoder` --> `VectorAssembler`\n",
        "\n",
        "Hasil dari proses encoding ini adalah pasangan feature-label, di mana kolom feature berupa sparse vector, yaitu vector yang mayoritas nilainya 0."
      ],
      "metadata": {
        "id": "Tcjd9aAWVzBB"
      }
    },
    {
      "cell_type": "code",
      "source": [
        "indexers = []\n",
        "for column in inputColNames:\n",
        "  indexers.append(StringIndexer(inputCol=column,\n",
        "                                outputCol=\"{0}_indexed\".format(column)))"
      ],
      "metadata": {
        "id": "dfYvF6LkWcLi"
      },
      "execution_count": null,
      "outputs": []
    },
    {
      "cell_type": "code",
      "source": [
        "encoders = []\n",
        "for indexer in indexers:\n",
        "  encoders.append(OneHotEncoder(inputCol=indexer.getOutputCol(),\n",
        "                                outputCol=\"{0}_encoded\".format(indexer.getOutputCol())))"
      ],
      "metadata": {
        "id": "awHT380tWYnv"
      },
      "execution_count": null,
      "outputs": []
    },
    {
      "cell_type": "code",
      "source": [
        "inputColumns = []\n",
        "for encoder in encoders:\n",
        "  inputColumns.append(encoder.getOutputCol())\n",
        "\n",
        "assembler = VectorAssembler(inputCols=inputColumns + continuousColNames,\n",
        "                           outputCol=\"features\")\n"
      ],
      "metadata": {
        "id": "YeQKKrmW8YLe"
      },
      "execution_count": null,
      "outputs": []
    },
    {
      "cell_type": "markdown",
      "source": [
        "Rangkai komponen di atas ke dalam sebuah pipeline"
      ],
      "metadata": {
        "id": "1mclDs7VWXuk"
      }
    },
    {
      "cell_type": "code",
      "source": [
        "pipeline = Pipeline(stages=indexers + encoders + [assembler])"
      ],
      "metadata": {
        "id": "Z9oipljK7ygo"
      },
      "execution_count": null,
      "outputs": []
    },
    {
      "cell_type": "markdown",
      "source": [
        "Fit pipeline dan transform data"
      ],
      "metadata": {
        "id": "yXfWfRjNWcp4"
      }
    },
    {
      "cell_type": "code",
      "source": [
        "data_encoder=pipeline.fit(df) #fit pipeline\n",
        "data = data_encoder.transform(df) #transform data\n",
        "transformed = data.select('features','label') #select kolom yang akan digunakan"
      ],
      "metadata": {
        "id": "lM_5nClV8PWQ"
      },
      "execution_count": null,
      "outputs": []
    },
    {
      "cell_type": "markdown",
      "source": [
        "Tampilkan hasilnya"
      ],
      "metadata": {
        "id": "osRx0khTlIMI"
      }
    },
    {
      "cell_type": "code",
      "source": [
        "data.show(5,False)\n",
        "transformed.show(5, False)"
      ],
      "metadata": {
        "id": "BOyQqpdPS9I5",
        "colab": {
          "base_uri": "https://localhost:8080/"
        },
        "outputId": "8e92a9f4-f129-4b62-df5b-390b6f7840ba"
      },
      "execution_count": null,
      "outputs": [
        {
          "output_type": "stream",
          "name": "stdout",
          "text": [
            "+----+---+-----------+-------+---------+-------+-------+-------+----+--------+---+-----+--------+--------+-----+--------+--------+-------+-----+-----------+---------------+-----------------+---------------+---------------+------------+-------------------+-----------------------+-------------------------+-----------------------+-----------------------+--------------------+------------------------------------------------------------------------------------------+\n",
            "|_c0 |age|job        |marital|education|default|balance|housing|loan|contact |day|month|duration|campaign|pdays|previous|poutcome|deposit|label|job_indexed|marital_indexed|education_indexed|default_indexed|housing_indexed|loan_indexed|job_indexed_encoded|marital_indexed_encoded|education_indexed_encoded|default_indexed_encoded|housing_indexed_encoded|loan_indexed_encoded|features                                                                                  |\n",
            "+----+---+-----------+-------+---------+-------+-------+-------+----+--------+---+-----+--------+--------+-----+--------+--------+-------+-----+-----------+---------------+-----------------+---------------+---------------+------------+-------------------+-----------------------+-------------------------+-----------------------+-----------------------+--------------------+------------------------------------------------------------------------------------------+\n",
            "|8422|31 |admin.     |single |secondary|no     |554    |yes    |no  |cellular|5  |feb  |94      |1       |-1   |0       |unknown |no     |0    |3.0        |1.0            |0.0              |0.0            |1.0            |0.0         |(11,[3],[1.0])     |(2,[1],[1.0])          |(3,[0],[1.0])            |(1,[0],[1.0])          |(1,[],[])              |(1,[0],[1.0])       |(24,[3,12,13,16,18,19,20,21,22,23],[1.0,1.0,1.0,1.0,1.0,31.0,554.0,1.0,-1.0,94.0])        |\n",
            "|9226|43 |blue-collar|married|secondary|no     |514    |yes    |yes |cellular|20 |apr  |34      |2       |-1   |0       |unknown |no     |0    |1.0        |0.0            |0.0              |0.0            |1.0            |1.0         |(11,[1],[1.0])     |(2,[0],[1.0])          |(3,[0],[1.0])            |(1,[0],[1.0])          |(1,[],[])              |(1,[],[])           |(24,[1,11,13,16,19,20,21,22,23],[1.0,1.0,1.0,1.0,43.0,514.0,2.0,-1.0,34.0])               |\n",
            "|8162|26 |blue-collar|single |secondary|no     |277    |no     |no  |unknown |14 |may  |514     |2       |-1   |0       |unknown |no     |0    |1.0        |1.0            |0.0              |0.0            |0.0            |0.0         |(11,[1],[1.0])     |(2,[1],[1.0])          |(3,[0],[1.0])            |(1,[0],[1.0])          |(1,[0],[1.0])          |(1,[0],[1.0])       |(24,[1,12,13,16,17,18,19,20,21,22,23],[1.0,1.0,1.0,1.0,1.0,1.0,26.0,277.0,2.0,-1.0,514.0])|\n",
            "|4337|39 |services   |single |secondary|no     |91     |no     |no  |cellular|3  |sep  |213     |1       |185  |1       |success |yes    |1    |4.0        |1.0            |0.0              |0.0            |0.0            |0.0         |(11,[4],[1.0])     |(2,[1],[1.0])          |(3,[0],[1.0])            |(1,[0],[1.0])          |(1,[0],[1.0])          |(1,[0],[1.0])       |(24,[4,12,13,16,17,18,19,20,21,22,23],[1.0,1.0,1.0,1.0,1.0,1.0,39.0,91.0,1.0,185.0,213.0])|\n",
            "|2438|40 |management |married|tertiary |no     |0      |no     |no  |cellular|6  |aug  |131     |2       |98   |6       |success |yes    |1    |0.0        |0.0            |1.0              |0.0            |0.0            |0.0         |(11,[0],[1.0])     |(2,[0],[1.0])          |(3,[1],[1.0])            |(1,[0],[1.0])          |(1,[0],[1.0])          |(1,[0],[1.0])       |(24,[0,11,14,16,17,18,19,21,22,23],[1.0,1.0,1.0,1.0,1.0,1.0,40.0,2.0,98.0,131.0])         |\n",
            "+----+---+-----------+-------+---------+-------+-------+-------+----+--------+---+-----+--------+--------+-----+--------+--------+-------+-----+-----------+---------------+-----------------+---------------+---------------+------------+-------------------+-----------------------+-------------------------+-----------------------+-----------------------+--------------------+------------------------------------------------------------------------------------------+\n",
            "only showing top 5 rows\n",
            "\n",
            "+------------------------------------------------------------------------------------------+-----+\n",
            "|features                                                                                  |label|\n",
            "+------------------------------------------------------------------------------------------+-----+\n",
            "|(24,[3,12,13,16,18,19,20,21,22,23],[1.0,1.0,1.0,1.0,1.0,31.0,554.0,1.0,-1.0,94.0])        |0    |\n",
            "|(24,[1,11,13,16,19,20,21,22,23],[1.0,1.0,1.0,1.0,43.0,514.0,2.0,-1.0,34.0])               |0    |\n",
            "|(24,[1,12,13,16,17,18,19,20,21,22,23],[1.0,1.0,1.0,1.0,1.0,1.0,26.0,277.0,2.0,-1.0,514.0])|0    |\n",
            "|(24,[4,12,13,16,17,18,19,20,21,22,23],[1.0,1.0,1.0,1.0,1.0,1.0,39.0,91.0,1.0,185.0,213.0])|1    |\n",
            "|(24,[0,11,14,16,17,18,19,21,22,23],[1.0,1.0,1.0,1.0,1.0,1.0,40.0,2.0,98.0,131.0])         |1    |\n",
            "+------------------------------------------------------------------------------------------+-----+\n",
            "only showing top 5 rows\n",
            "\n"
          ]
        }
      ]
    },
    {
      "cell_type": "markdown",
      "source": [
        "####Penjelasan step by step"
      ],
      "metadata": {
        "id": "3o_e3_G-nYlp"
      }
    },
    {
      "cell_type": "code",
      "source": [
        "data['loan', 'loan_indexed', 'loan_indexed_encoded',\n",
        "     'education', 'education_indexed', 'education_indexed_encoded'].show(5, False)"
      ],
      "metadata": {
        "id": "_4hzSTe6nVLU",
        "colab": {
          "base_uri": "https://localhost:8080/"
        },
        "outputId": "0d462c93-4786-4a7f-fd36-d3b798a0fe05"
      },
      "execution_count": null,
      "outputs": [
        {
          "output_type": "stream",
          "name": "stdout",
          "text": [
            "+----+------------+--------------------+---------+-----------------+-------------------------+\n",
            "|loan|loan_indexed|loan_indexed_encoded|education|education_indexed|education_indexed_encoded|\n",
            "+----+------------+--------------------+---------+-----------------+-------------------------+\n",
            "|no  |0.0         |(1,[0],[1.0])       |secondary|0.0              |(3,[0],[1.0])            |\n",
            "|yes |1.0         |(1,[],[])           |secondary|0.0              |(3,[0],[1.0])            |\n",
            "|no  |0.0         |(1,[0],[1.0])       |secondary|0.0              |(3,[0],[1.0])            |\n",
            "|no  |0.0         |(1,[0],[1.0])       |secondary|0.0              |(3,[0],[1.0])            |\n",
            "|no  |0.0         |(1,[0],[1.0])       |tertiary |1.0              |(3,[1],[1.0])            |\n",
            "+----+------------+--------------------+---------+-----------------+-------------------------+\n",
            "only showing top 5 rows\n",
            "\n"
          ]
        }
      ]
    },
    {
      "cell_type": "markdown",
      "source": [
        "1. `StringIndexer` mengubah variabel kategorik menjadi indeks berupa integer 0 sampai N-1. Kolom `gender_indexed` nilainya menjadi 0 dan 1. Sedangkan kolom `dept_indexed` 0 sampai 5.\n",
        "\n",
        "2. `OneHotEncoder` mentransformasi indeks di atas menjadi binary vector `00000` sampai `10000`. Karena vector yang dihasilkan nilainya hampir semuanya 0, maka MLlib merepresentasikannya sebagai sparse vector. Sparse vector di MLlib disimpan dengan format `(ukuran_vektor_sebenarnya, indeks_nonzero, nilai_nonzero)`\n"
      ],
      "metadata": {
        "id": "NwgT-8U-lKcJ"
      }
    },
    {
      "cell_type": "code",
      "source": [
        "data[['education_indexed_encoded']].distinct().show()"
      ],
      "metadata": {
        "id": "0EA928Rsoi3f",
        "colab": {
          "base_uri": "https://localhost:8080/"
        },
        "outputId": "4297c3e4-b99f-489b-f969-c175dae9c45d"
      },
      "execution_count": null,
      "outputs": [
        {
          "output_type": "stream",
          "name": "stdout",
          "text": [
            "+-------------------------+\n",
            "|education_indexed_encoded|\n",
            "+-------------------------+\n",
            "|            (3,[2],[1.0])|\n",
            "|            (3,[1],[1.0])|\n",
            "|            (3,[0],[1.0])|\n",
            "|                (3,[],[])|\n",
            "+-------------------------+\n",
            "\n"
          ]
        }
      ]
    },
    {
      "cell_type": "markdown",
      "source": [
        "\n",
        "Misalnya untuk kolom `education_indexed_encoded`\n",
        "- `(3,[2],[1.0])` berarti vektor ukuran 3 dengan kolom ke 2 bernilai 1.0, dan selebihnya 0 --> `[0, 0, 1.0]`\n",
        "- `(3,[],[])` berarti vektor ukuran 3 tanpa nonzero kolom alias semuanya 0 --> `[0, 0, 0]`\n",
        "- `(3,[1],[1.0])` berarti vektor ukuran 3 dengan kolom ke 1 bernilai 1.0, dan selebihnya 0 --> `[0, 1.0, 0]`\n",
        "\n",
        "dst.\n",
        "\n",
        "\n",
        "Selanjutnya `VectorAssembler` menggabungkan seluruh variabel hasil encoding dan variabel numerik yang akan digunakan untuk training, ke dalam sebuah sparse vector dalam kolom `features`."
      ],
      "metadata": {
        "id": "6M_jnM-popTI"
      }
    },
    {
      "cell_type": "code",
      "source": [
        "data[['features']].show(5, False)"
      ],
      "metadata": {
        "id": "vcNZxX4-ppdn",
        "colab": {
          "base_uri": "https://localhost:8080/"
        },
        "outputId": "2df670c1-3c89-4e45-dbb1-1089a8813edf"
      },
      "execution_count": null,
      "outputs": [
        {
          "output_type": "stream",
          "name": "stdout",
          "text": [
            "+------------------------------------------------------------------------------------------+\n",
            "|features                                                                                  |\n",
            "+------------------------------------------------------------------------------------------+\n",
            "|(24,[3,12,13,16,18,19,20,21,22,23],[1.0,1.0,1.0,1.0,1.0,31.0,554.0,1.0,-1.0,94.0])        |\n",
            "|(24,[1,11,13,16,19,20,21,22,23],[1.0,1.0,1.0,1.0,43.0,514.0,2.0,-1.0,34.0])               |\n",
            "|(24,[1,12,13,16,17,18,19,20,21,22,23],[1.0,1.0,1.0,1.0,1.0,1.0,26.0,277.0,2.0,-1.0,514.0])|\n",
            "|(24,[4,12,13,16,17,18,19,20,21,22,23],[1.0,1.0,1.0,1.0,1.0,1.0,39.0,91.0,1.0,185.0,213.0])|\n",
            "|(24,[0,11,14,16,17,18,19,21,22,23],[1.0,1.0,1.0,1.0,1.0,1.0,40.0,2.0,98.0,131.0])         |\n",
            "+------------------------------------------------------------------------------------------+\n",
            "only showing top 5 rows\n",
            "\n"
          ]
        }
      ]
    },
    {
      "cell_type": "markdown",
      "source": [
        "Total ukuran vektor `features` adalah **11 + 2 + 3 + 1 + 1 + 1 + 5 = 24**, yaitu :\n",
        "- 11 kolom untuk `job`\n",
        "- 2 kolom untuk `marital`\n",
        "- 3 kolom utuk `education`\n",
        "- masing-masing 1 kolom untuk `default,housing`, dan `loan`\n",
        "- serta 5 untuk kolom numerik lainnya (`'age','balance','campaign','pdays','duration'`)\n",
        "\n",
        "Misalnya untuk record pertama,\n",
        "\n",
        " `(24,[3,12,13,16,18,19,20,21,22,23],[1.0,1.0,1.0,1.0,1.0,31.0,554.0,1.0,-1.0,94.0]) ` berarti vektor `[0,0,0,1.0,0,0,0,0,0,0,0,0,1.0,1.0,0,0,1.0,0,1.0,31.0,554.0,1.0,-1.0,94.0]`,\n",
        "\n",
        "yaitu vektor berukuran 24, dengan nilai nonzero di indeks ke `3,12,13,16,18,19,20,21,22, dan 23`."
      ],
      "metadata": {
        "id": "f6M_lN6QqJiT"
      }
    },
    {
      "cell_type": "markdown",
      "metadata": {
        "id": "pQou6So_MhUe"
      },
      "source": [
        "###Split the data to training and test data sets"
      ]
    },
    {
      "cell_type": "code",
      "metadata": {
        "id": "2XCllLwbMeTR",
        "colab": {
          "base_uri": "https://localhost:8080/"
        },
        "outputId": "129e25e8-0f1e-41ae-bdb1-c7ee682e0c65"
      },
      "source": [
        "(trainingData, testData) = transformed.randomSplit([0.7, 0.3])\n",
        "\n",
        "trainingData.show(5, False)\n",
        "testData.show(5, False)"
      ],
      "execution_count": null,
      "outputs": [
        {
          "output_type": "stream",
          "name": "stdout",
          "text": [
            "+-------------------------------------------------------------------------------------------+-----+\n",
            "|features                                                                                   |label|\n",
            "+-------------------------------------------------------------------------------------------+-----+\n",
            "|(24,[0,11,13,16,17,18,19,20,21,22,23],[1.0,1.0,1.0,1.0,1.0,1.0,29.0,231.0,1.0,14.0,1075.0])|1    |\n",
            "|(24,[0,11,13,16,17,18,19,20,21,22,23],[1.0,1.0,1.0,1.0,1.0,1.0,33.0,369.0,1.0,-1.0,446.0]) |1    |\n",
            "|(24,[0,11,13,16,17,18,19,20,21,22,23],[1.0,1.0,1.0,1.0,1.0,1.0,34.0,369.0,3.0,342.0,868.0])|1    |\n",
            "|(24,[0,11,13,16,17,18,19,20,21,22,23],[1.0,1.0,1.0,1.0,1.0,1.0,40.0,4396.0,3.0,-1.0,432.0])|1    |\n",
            "|(24,[0,11,13,16,17,18,19,20,21,22,23],[1.0,1.0,1.0,1.0,1.0,1.0,40.0,8486.0,3.0,-1.0,260.0])|0    |\n",
            "+-------------------------------------------------------------------------------------------+-----+\n",
            "only showing top 5 rows\n",
            "\n",
            "+-------------------------------------------------------------------------------------------+-----+\n",
            "|features                                                                                   |label|\n",
            "+-------------------------------------------------------------------------------------------+-----+\n",
            "|(24,[0,11,13,16,17,18,19,20,21,22,23],[1.0,1.0,1.0,1.0,1.0,1.0,30.0,850.0,2.0,-1.0,507.0]) |1    |\n",
            "|(24,[0,11,13,16,17,18,19,20,21,22,23],[1.0,1.0,1.0,1.0,1.0,1.0,31.0,1064.0,1.0,-1.0,60.0]) |0    |\n",
            "|(24,[0,11,13,16,17,18,19,20,21,22,23],[1.0,1.0,1.0,1.0,1.0,1.0,35.0,533.0,12.0,-1.0,221.0])|0    |\n",
            "|(24,[0,11,13,16,17,18,19,20,21,22,23],[1.0,1.0,1.0,1.0,1.0,1.0,37.0,565.0,1.0,398.0,449.0])|1    |\n",
            "|(24,[0,11,13,16,17,18,19,20,21,22,23],[1.0,1.0,1.0,1.0,1.0,1.0,39.0,215.0,4.0,-1.0,1141.0])|1    |\n",
            "+-------------------------------------------------------------------------------------------+-----+\n",
            "only showing top 5 rows\n",
            "\n"
          ]
        }
      ]
    },
    {
      "cell_type": "markdown",
      "metadata": {
        "id": "I_sK5EaQMv2Q"
      },
      "source": [
        "###Fit Decision Tree Classification Model"
      ]
    },
    {
      "cell_type": "code",
      "metadata": {
        "id": "L-_aAelcMlBX"
      },
      "source": [
        "dTree = DecisionTreeClassifier(labelCol='label',\n",
        "                               featuresCol='features')"
      ],
      "execution_count": null,
      "outputs": []
    },
    {
      "cell_type": "markdown",
      "source": [
        "Model training"
      ],
      "metadata": {
        "id": "V1zaVEjqfhaZ"
      }
    },
    {
      "cell_type": "code",
      "metadata": {
        "id": "eLtJbNHGM7br"
      },
      "source": [
        "model = dTree.fit(trainingData)"
      ],
      "execution_count": null,
      "outputs": []
    },
    {
      "cell_type": "markdown",
      "source": [
        "Tampilkan deskripsi model"
      ],
      "metadata": {
        "id": "2xmZ6ZkLfdEf"
      }
    },
    {
      "cell_type": "code",
      "source": [
        "print(model)"
      ],
      "metadata": {
        "id": "4NEWX-AMfXUv",
        "colab": {
          "base_uri": "https://localhost:8080/"
        },
        "outputId": "08ea4bec-f157-4b7e-d402-96a055eb3432"
      },
      "execution_count": null,
      "outputs": [
        {
          "output_type": "stream",
          "name": "stdout",
          "text": [
            "DecisionTreeClassificationModel: uid=DecisionTreeClassifier_b86eed2f3acf, depth=5, numNodes=47, numClasses=2, numFeatures=24\n"
          ]
        }
      ]
    },
    {
      "cell_type": "markdown",
      "metadata": {
        "id": "Khc9yYGGM_Hk"
      },
      "source": [
        "Lakukan Prediksi terhadap data test"
      ]
    },
    {
      "cell_type": "code",
      "metadata": {
        "id": "Rtq1TSZMN1hG"
      },
      "source": [
        "predictions = model.transform(testData)"
      ],
      "execution_count": null,
      "outputs": []
    },
    {
      "cell_type": "markdown",
      "source": [
        "Tampilkan hasil prediksi"
      ],
      "metadata": {
        "id": "KhGHtCx0MAC6"
      }
    },
    {
      "cell_type": "code",
      "source": [
        "predictions.show(5)"
      ],
      "metadata": {
        "id": "jaKl_suTz-Hw",
        "colab": {
          "base_uri": "https://localhost:8080/"
        },
        "outputId": "9c7f5676-796f-4445-ab0c-40062e6a71c1"
      },
      "execution_count": null,
      "outputs": [
        {
          "output_type": "stream",
          "name": "stdout",
          "text": [
            "+--------------------+-----+-------------+--------------------+----------+\n",
            "|            features|label|rawPrediction|         probability|prediction|\n",
            "+--------------------+-----+-------------+--------------------+----------+\n",
            "|(24,[0,11,13,16,1...|    1| [37.0,159.0]|[0.18877551020408...|       1.0|\n",
            "|(24,[0,11,13,16,1...|    0| [200.0,29.0]|[0.87336244541484...|       0.0|\n",
            "|(24,[0,11,13,16,1...|    0|  [75.0,84.0]|[0.47169811320754...|       1.0|\n",
            "|(24,[0,11,13,16,1...|    1|  [12.0,96.0]|[0.11111111111111...|       1.0|\n",
            "|(24,[0,11,13,16,1...|    1| [47.0,319.0]|[0.12841530054644...|       1.0|\n",
            "+--------------------+-----+-------------+--------------------+----------+\n",
            "only showing top 5 rows\n",
            "\n"
          ]
        }
      ]
    },
    {
      "cell_type": "markdown",
      "metadata": {
        "id": "2tOyC7u-N67K"
      },
      "source": [
        "###Evaluation"
      ]
    },
    {
      "cell_type": "markdown",
      "source": [
        "Hitung dan tampilkan evaluasi hasil prediksi model terhadap data test"
      ],
      "metadata": {
        "id": "UCEvB2TeM6Uz"
      }
    },
    {
      "cell_type": "code",
      "metadata": {
        "id": "A5igKyOXN5a1"
      },
      "source": [
        "evaluator_acc = MulticlassClassificationEvaluator(labelCol=\"label\",\n",
        "                                              predictionCol=\"prediction\",\n",
        "                                              metricName=\"accuracy\")\n",
        "evaluator_pr = MulticlassClassificationEvaluator(labelCol=\"label\",\n",
        "                                              predictionCol=\"prediction\",\n",
        "                                              metricName=\"precisionByLabel\")\n",
        "evaluator_rc = MulticlassClassificationEvaluator(labelCol=\"label\",\n",
        "                                              predictionCol=\"prediction\",\n",
        "                                              metricName=\"recallByLabel\")\n",
        "evaluator_f1 = MulticlassClassificationEvaluator(labelCol=\"label\",\n",
        "                                              predictionCol=\"prediction\",\n",
        "                                              metricName=\"f1\")"
      ],
      "execution_count": null,
      "outputs": []
    },
    {
      "cell_type": "code",
      "source": [
        "accuracy = evaluator_acc.evaluate(predictions)\n",
        "precision = evaluator_pr.evaluate(predictions)\n",
        "recall = evaluator_rc.evaluate(predictions)\n",
        "f1 = evaluator_f1.evaluate(predictions)"
      ],
      "metadata": {
        "id": "YqMAs4CYalD8"
      },
      "execution_count": null,
      "outputs": []
    },
    {
      "cell_type": "code",
      "source": [
        "print (\"Accuracy = %s\" % accuracy)\n",
        "print (\"Precision = %s\" % precision)\n",
        "print (\"Recall = %s\" % recall)\n",
        "print (\"F1 metric = %s\" % f1)\n",
        "print (\"Prediction Error = %s\" % (1-accuracy))"
      ],
      "metadata": {
        "id": "DestvEA60dvN",
        "colab": {
          "base_uri": "https://localhost:8080/"
        },
        "outputId": "f2d46b6b-cea2-48e4-db3c-28f8d3d68e37"
      },
      "execution_count": null,
      "outputs": [
        {
          "output_type": "stream",
          "name": "stdout",
          "text": [
            "Accuracy = 0.7690782953419227\n",
            "Precision = 0.8218884120171673\n",
            "Recall = 0.7185741088180112\n",
            "F1 metric = 0.7689263106367848\n",
            "Prediction Error = 0.23092170465807726\n"
          ]
        }
      ]
    },
    {
      "cell_type": "markdown",
      "metadata": {
        "id": "CqW_5BeJOYT-"
      },
      "source": [
        "####Visualisasi Confusion Matrix\n",
        "\n",
        "Kita bisa menampilkan summary kinerja model menggunakan confusion matrix, yaitu matriks yang menampilkan perbandingan label sebenarnya dengan label hasil prediksi.\n",
        "\n",
        "Kita gunakan fungsi `confusion_matrix` dari package `sklearn.metrics`"
      ]
    },
    {
      "cell_type": "code",
      "metadata": {
        "id": "wZq0EZqEOjPh",
        "colab": {
          "base_uri": "https://localhost:8080/"
        },
        "outputId": "a39ddc9b-916d-4962-dd53-b3c0af8432e2"
      },
      "source": [
        "y_true = predictions.select(\"label\")\n",
        "y_true = y_true.toPandas()\n",
        "\n",
        "y_pred = predictions.select(\"prediction\")\n",
        "y_pred = y_pred.toPandas()\n",
        "\n",
        "cnf_matrix = confusion_matrix(y_true, y_pred)\n",
        "cnf_matrix"
      ],
      "execution_count": null,
      "outputs": [
        {
          "output_type": "execute_result",
          "data": {
            "text/plain": [
              "array([[383, 150],\n",
              "       [ 83, 393]])"
            ]
          },
          "metadata": {},
          "execution_count": 31
        }
      ]
    },
    {
      "cell_type": "markdown",
      "source": [
        "Kita bisa visualisasikan confusion matrix menggunakan `heatmap plot` dari `Seaborn`.\n",
        "\n",
        "Keterangan confusion matrix :\n",
        "- Sumbu Y mewakili nilai sebenarnya, yaitu Negative jika tidak melakukan deposit (target label = 0), dan Positive jika melakukan deposit (target label = 1).\n",
        "- Sumbu X mewakili nilai hasil prediksi.\n",
        "\n",
        "\n",
        "\n"
      ],
      "metadata": {
        "id": "Yf7qTO99HHBj"
      }
    },
    {
      "cell_type": "code",
      "metadata": {
        "id": "8Kmzcyw7qSqh",
        "colab": {
          "base_uri": "https://localhost:8080/",
          "height": 505
        },
        "outputId": "1cda1291-9827-43c1-cae7-766435ccc2a8"
      },
      "source": [
        "sns.set_theme()\n",
        "\n",
        "annot_label = np.array([[\"True Negative: %d\" % (cnf_matrix[0][0]),\n",
        "           \"False Positive: %d\" % (cnf_matrix[0][1])],\n",
        "          [\"False Negative: %d\" % (cnf_matrix[1][0]),\n",
        "           \"True Positive: %d\" % (cnf_matrix[1][1])]])\n",
        "\n",
        "ax = sns.heatmap(cnf_matrix,\n",
        "                 annot=annot_label,\n",
        "                 fmt=\"\",\n",
        "                 cmap=plt.cm.Blues,\n",
        "                 linewidths=.1,\n",
        "                 linecolor=\"grey\")\n",
        "\n",
        "# set x-axis label and ticks.\n",
        "ax.set_xlabel(\"Predicted\", fontsize=11)\n",
        "ax.xaxis.set_ticklabels(['Negative', 'Positive'], fontsize=10)\n",
        "\n",
        "# set y-axis label and ticks\n",
        "ax.set_ylabel(\"Actual\", fontsize=11)\n",
        "ax.yaxis.set_ticklabels(['Negative', 'Positive'], fontsize=10)\n",
        "\n",
        "# set plot title\n",
        "ax.set_title(\"Confusion Matrix\", fontsize=15, pad=25)\n",
        "\n",
        "plt.show()"
      ],
      "execution_count": null,
      "outputs": [
        {
          "output_type": "display_data",
          "data": {
            "text/plain": [
              "<Figure size 640x480 with 2 Axes>"
            ],
            "image/png": "[encoded data removed]"
          },
          "metadata": {}
        }
      ]
    },
    {
      "cell_type": "markdown",
      "source": [],
      "metadata": {
        "id": "iz57AnsKYvug"
      }
    }
  ]
}