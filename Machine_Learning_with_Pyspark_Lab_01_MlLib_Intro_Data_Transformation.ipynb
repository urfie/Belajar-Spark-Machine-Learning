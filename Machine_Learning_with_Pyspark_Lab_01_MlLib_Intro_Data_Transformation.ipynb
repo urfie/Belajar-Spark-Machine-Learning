{
  "nbformat": 4,
  "nbformat_minor": 0,
  "metadata": {
    "colab": {
      "provenance": []
    },
    "kernelspec": {
      "name": "python3",
      "display_name": "Python 3"
    }
  },
  "cells": [
    {
      "cell_type": "markdown",
      "source": [
        "#MLlib Basic - Data Transformation\n"
      ],
      "metadata": {
        "id": "H6baN9TM6tjq"
      }
    },
    {
      "cell_type": "code",
      "metadata": {
        "id": "fdNhPxh_ZLBW",
        "colab": {
          "base_uri": "https://localhost:8080/"
        },
        "outputId": "d13c03d1-8825-4f3f-b744-0eb7ba9596e3"
      },
      "source": [
        "#do this for Google Colab\n",
        "%pip install pyspark"
      ],
      "execution_count": null,
      "outputs": [
        {
          "output_type": "stream",
          "name": "stdout",
          "text": [
            "Requirement already satisfied: pyspark in /usr/local/lib/python3.7/dist-packages (3.2.1)\n",
            "Requirement already satisfied: py4j==0.10.9.3 in /usr/local/lib/python3.7/dist-packages (from pyspark) (0.10.9.3)\n"
          ]
        }
      ]
    },
    {
      "cell_type": "markdown",
      "source": [],
      "metadata": {
        "id": "VYFTsL1L6sik"
      }
    },
    {
      "cell_type": "code",
      "source": [
        "#import necessary packages\n",
        "import pyspark\n",
        "from pyspark.sql import SparkSession\n",
        "from pyspark.ml import Pipeline\n",
        "from pyspark.ml.feature import StringIndexer\n",
        "from pyspark.ml.feature import OneHotEncoder\n",
        "from pyspark.ml.feature import VectorAssembler\n"
      ],
      "metadata": {
        "id": "nF1Na4eaKGBd"
      },
      "execution_count": null,
      "outputs": []
    },
    {
      "cell_type": "code",
      "metadata": {
        "id": "bv1u5p7sa6fa"
      },
      "source": [
        "#Create Spark Session\n",
        "spark = SparkSession.builder.appName('MlLib Basics').getOrCreate()"
      ],
      "execution_count": null,
      "outputs": []
    },
    {
      "cell_type": "code",
      "metadata": {
        "id": "-0vRjUHCfZ4Y",
        "colab": {
          "base_uri": "https://localhost:8080/"
        },
        "outputId": "8d432c37-d5c6-4f7f-ccd3-4d99f8c54709"
      },
      "source": [
        "df = spark.createDataFrame( [(0, \"Male\"),\n",
        "                             (1, \"Male\"),\n",
        "                             (2, \"Female\"),\n",
        "                             (3, \"Female\"),\n",
        "                             (4, \"Female\"),\n",
        "                             (5, \"Male\")\n",
        "                          ], [\"id\", \"gender\"])\n",
        "\n",
        "df.show()\n",
        "\n",
        "#Indexer\n",
        "indexer = StringIndexer(inputCol=\"gender\", outputCol=\"genderIndex\")\n",
        "indexed = indexer.fit(df).transform(df)\n",
        "indexed.show()\n",
        "\n",
        "encoder = OneHotEncoder(inputCols=[\"genderIndex\"],\n",
        "                        outputCols=[\"genderEncoded\"])\n",
        "encoded = encoder.fit(indexed).transform(indexed)\n",
        "encoded.show()"
      ],
      "execution_count": null,
      "outputs": [
        {
          "output_type": "stream",
          "name": "stdout",
          "text": [
            "+---+------+\n",
            "| id|gender|\n",
            "+---+------+\n",
            "|  0|  Male|\n",
            "|  1|  Male|\n",
            "|  2|Female|\n",
            "|  3|Female|\n",
            "|  4|Female|\n",
            "|  5|  Male|\n",
            "+---+------+\n",
            "\n",
            "+---+------+-----------+\n",
            "| id|gender|genderIndex|\n",
            "+---+------+-----------+\n",
            "|  0|  Male|        1.0|\n",
            "|  1|  Male|        1.0|\n",
            "|  2|Female|        0.0|\n",
            "|  3|Female|        0.0|\n",
            "|  4|Female|        0.0|\n",
            "|  5|  Male|        1.0|\n",
            "+---+------+-----------+\n",
            "\n",
            "+---+------+-----------+-------------+\n",
            "| id|gender|genderIndex|genderEncoded|\n",
            "+---+------+-----------+-------------+\n",
            "|  0|  Male|        1.0|    (1,[],[])|\n",
            "|  1|  Male|        1.0|    (1,[],[])|\n",
            "|  2|Female|        0.0|(1,[0],[1.0])|\n",
            "|  3|Female|        0.0|(1,[0],[1.0])|\n",
            "|  4|Female|        0.0|(1,[0],[1.0])|\n",
            "|  5|  Male|        1.0|    (1,[],[])|\n",
            "+---+------+-----------+-------------+\n",
            "\n"
          ]
        }
      ]
    },
    {
      "cell_type": "code",
      "metadata": {
        "colab": {
          "base_uri": "https://localhost:8080/"
        },
        "id": "z-IcXMsiczEq",
        "outputId": "5d473e0f-1009-409a-9936-92af0d1b9cb8"
      },
      "source": [
        "df = spark.createDataFrame( [(\"Female\", \"Blue\", 300, 0.0, 0),\n",
        "                             (\"Female\", \"Black\", 200, 15.1, 1),\n",
        "                             (\"Male\", \"Red\", 100, 12.4, 0),\n",
        "                             (\"Female\", \"Green\", 100, 0.0, 1),\n",
        "                             (\"Female\", \"Blue\", 200, 0.0, 0),\n",
        "                             (\"Male\", \"Green\", 400, 20.0, 1),\n",
        "                              (\"Male\", \"Yellow\", 400, 20.0, 1)],\n",
        "                            [\"gender\", \"color\", \"num1\", \"num2\", \"target\"])\n",
        "\n",
        "df.show()\n",
        "\n",
        "indexer_1 = StringIndexer(inputCol=\"gender\", outputCol=\"genderIndex\")\n",
        "indexed_1 = indexer_1.fit(df).transform(df)\n",
        "indexed_1.show()\n",
        "\n",
        "indexer_2 = StringIndexer(inputCol=\"color\", outputCol=\"colorIndex\")\n",
        "indexed_2 = indexer_2.fit(indexed_1).transform(indexed_1)\n",
        "indexed_2.show()\n",
        "\n",
        "\n",
        "encoder_1 = OneHotEncoder(inputCols=[\"genderIndex\"],\n",
        "                        outputCols=[\"genderEncoded\"])\n",
        "encoded_1 = encoder_1.fit(indexed_2).transform(indexed_2)\n",
        "encoded_1.show()\n",
        "\n",
        "encoder_2 = OneHotEncoder(inputCols=[\"colorIndex\"],\n",
        "                        outputCols=[\"colorEncoded\"])\n",
        "encoded_2 = encoder_2.fit(encoded_1).transform(encoded_1)\n",
        "encoded_2.show()"
      ],
      "execution_count": null,
      "outputs": [
        {
          "output_type": "stream",
          "name": "stdout",
          "text": [
            "+------+------+----+----+------+\n",
            "|gender| color|num1|num2|target|\n",
            "+------+------+----+----+------+\n",
            "|Female|  Blue| 300| 0.0|     0|\n",
            "|Female| Black| 200|15.1|     1|\n",
            "|  Male|   Red| 100|12.4|     0|\n",
            "|Female| Green| 100| 0.0|     1|\n",
            "|Female|  Blue| 200| 0.0|     0|\n",
            "|  Male| Green| 400|20.0|     1|\n",
            "|  Male|Yellow| 400|20.0|     1|\n",
            "+------+------+----+----+------+\n",
            "\n",
            "+------+------+----+----+------+-----------+\n",
            "|gender| color|num1|num2|target|genderIndex|\n",
            "+------+------+----+----+------+-----------+\n",
            "|Female|  Blue| 300| 0.0|     0|        0.0|\n",
            "|Female| Black| 200|15.1|     1|        0.0|\n",
            "|  Male|   Red| 100|12.4|     0|        1.0|\n",
            "|Female| Green| 100| 0.0|     1|        0.0|\n",
            "|Female|  Blue| 200| 0.0|     0|        0.0|\n",
            "|  Male| Green| 400|20.0|     1|        1.0|\n",
            "|  Male|Yellow| 400|20.0|     1|        1.0|\n",
            "+------+------+----+----+------+-----------+\n",
            "\n",
            "+------+------+----+----+------+-----------+----------+\n",
            "|gender| color|num1|num2|target|genderIndex|colorIndex|\n",
            "+------+------+----+----+------+-----------+----------+\n",
            "|Female|  Blue| 300| 0.0|     0|        0.0|       0.0|\n",
            "|Female| Black| 200|15.1|     1|        0.0|       2.0|\n",
            "|  Male|   Red| 100|12.4|     0|        1.0|       3.0|\n",
            "|Female| Green| 100| 0.0|     1|        0.0|       1.0|\n",
            "|Female|  Blue| 200| 0.0|     0|        0.0|       0.0|\n",
            "|  Male| Green| 400|20.0|     1|        1.0|       1.0|\n",
            "|  Male|Yellow| 400|20.0|     1|        1.0|       4.0|\n",
            "+------+------+----+----+------+-----------+----------+\n",
            "\n",
            "+------+------+----+----+------+-----------+----------+-------------+\n",
            "|gender| color|num1|num2|target|genderIndex|colorIndex|genderEncoded|\n",
            "+------+------+----+----+------+-----------+----------+-------------+\n",
            "|Female|  Blue| 300| 0.0|     0|        0.0|       0.0|(1,[0],[1.0])|\n",
            "|Female| Black| 200|15.1|     1|        0.0|       2.0|(1,[0],[1.0])|\n",
            "|  Male|   Red| 100|12.4|     0|        1.0|       3.0|    (1,[],[])|\n",
            "|Female| Green| 100| 0.0|     1|        0.0|       1.0|(1,[0],[1.0])|\n",
            "|Female|  Blue| 200| 0.0|     0|        0.0|       0.0|(1,[0],[1.0])|\n",
            "|  Male| Green| 400|20.0|     1|        1.0|       1.0|    (1,[],[])|\n",
            "|  Male|Yellow| 400|20.0|     1|        1.0|       4.0|    (1,[],[])|\n",
            "+------+------+----+----+------+-----------+----------+-------------+\n",
            "\n",
            "+------+------+----+----+------+-----------+----------+-------------+-------------+\n",
            "|gender| color|num1|num2|target|genderIndex|colorIndex|genderEncoded| colorEncoded|\n",
            "+------+------+----+----+------+-----------+----------+-------------+-------------+\n",
            "|Female|  Blue| 300| 0.0|     0|        0.0|       0.0|(1,[0],[1.0])|(4,[0],[1.0])|\n",
            "|Female| Black| 200|15.1|     1|        0.0|       2.0|(1,[0],[1.0])|(4,[2],[1.0])|\n",
            "|  Male|   Red| 100|12.4|     0|        1.0|       3.0|    (1,[],[])|(4,[3],[1.0])|\n",
            "|Female| Green| 100| 0.0|     1|        0.0|       1.0|(1,[0],[1.0])|(4,[1],[1.0])|\n",
            "|Female|  Blue| 200| 0.0|     0|        0.0|       0.0|(1,[0],[1.0])|(4,[0],[1.0])|\n",
            "|  Male| Green| 400|20.0|     1|        1.0|       1.0|    (1,[],[])|(4,[1],[1.0])|\n",
            "|  Male|Yellow| 400|20.0|     1|        1.0|       4.0|    (1,[],[])|    (4,[],[])|\n",
            "+------+------+----+----+------+-----------+----------+-------------+-------------+\n",
            "\n"
          ]
        }
      ]
    },
    {
      "cell_type": "code",
      "metadata": {
        "colab": {
          "base_uri": "https://localhost:8080/"
        },
        "id": "4YZ873ExwIjj",
        "outputId": "ec683288-b193-46f9-d80a-47bc2f1c3100"
      },
      "source": [
        "#Assemble the vectors into 1 features vector, using VectorAssembler transformator\n",
        "assembler = VectorAssembler(\n",
        "    inputCols=[\"genderEncoded\", \"colorEncoded\", \"num1\", \"num2\"],\n",
        "    outputCol=\"features\")\n",
        "\n",
        "output = assembler.transform(encoded_2)\n",
        "output.show(truncate=False)"
      ],
      "execution_count": null,
      "outputs": [
        {
          "output_type": "stream",
          "name": "stdout",
          "text": [
            "+------+------+----+----+------+-----------+----------+-------------+-------------+--------------------------------+\n",
            "|gender|color |num1|num2|target|genderIndex|colorIndex|genderEncoded|colorEncoded |features                        |\n",
            "+------+------+----+----+------+-----------+----------+-------------+-------------+--------------------------------+\n",
            "|Female|Blue  |300 |0.0 |0     |0.0        |0.0       |(1,[0],[1.0])|(4,[0],[1.0])|(7,[0,1,5],[1.0,1.0,300.0])     |\n",
            "|Female|Black |200 |15.1|1     |0.0        |2.0       |(1,[0],[1.0])|(4,[2],[1.0])|[1.0,0.0,0.0,1.0,0.0,200.0,15.1]|\n",
            "|Male  |Red   |100 |12.4|0     |1.0        |3.0       |(1,[],[])    |(4,[3],[1.0])|(7,[4,5,6],[1.0,100.0,12.4])    |\n",
            "|Female|Green |100 |0.0 |1     |0.0        |1.0       |(1,[0],[1.0])|(4,[1],[1.0])|(7,[0,2,5],[1.0,1.0,100.0])     |\n",
            "|Female|Blue  |200 |0.0 |0     |0.0        |0.0       |(1,[0],[1.0])|(4,[0],[1.0])|(7,[0,1,5],[1.0,1.0,200.0])     |\n",
            "|Male  |Green |400 |20.0|1     |1.0        |1.0       |(1,[],[])    |(4,[1],[1.0])|(7,[2,5,6],[1.0,400.0,20.0])    |\n",
            "|Male  |Yellow|400 |20.0|1     |1.0        |4.0       |(1,[],[])    |(4,[],[])    |(7,[5,6],[400.0,20.0])          |\n",
            "+------+------+----+----+------+-----------+----------+-------------+-------------+--------------------------------+\n",
            "\n"
          ]
        }
      ]
    },
    {
      "cell_type": "code",
      "metadata": {
        "id": "HdZbCidYj3pl",
        "colab": {
          "base_uri": "https://localhost:8080/"
        },
        "outputId": "0170a642-22e5-456b-afd1-ff6027571317"
      },
      "source": [
        "#Create the same process with Pipeline\n",
        "\n",
        "indexer_1 = StringIndexer(inputCol=\"gender\", outputCol=\"genderIndex\")\n",
        "indexer_2 = StringIndexer(inputCol=\"color\", outputCol=\"colorIndex\")\n",
        "indexers = [indexer_1, indexer_2]\n",
        "\n",
        "encoder_1 = OneHotEncoder(inputCols=[\"genderIndex\"], outputCols=[\"genderEncoded\"])\n",
        "encoder_2 = OneHotEncoder(inputCols=[\"colorIndex\"], outputCols=[\"colorEncoded\"])\n",
        "encoders = [encoder_1, encoder_2]\n",
        "\n",
        "assembler = VectorAssembler(inputCols=[\"genderEncoded\", \"colorEncoded\", \"num1\", \"num2\"], outputCol=\"features\")\n",
        "\n",
        "pipeline = Pipeline(stages=indexers + encoders + [assembler])\n",
        "\n",
        "model=pipeline.fit(df)\n",
        "data = model.transform(df)\n",
        "\n",
        "data.show(truncate=False)"
      ],
      "execution_count": null,
      "outputs": [
        {
          "output_type": "stream",
          "name": "stdout",
          "text": [
            "+------+------+----+----+------+-----------+----------+-------------+-------------+--------------------------------+\n",
            "|gender|color |num1|num2|target|genderIndex|colorIndex|genderEncoded|colorEncoded |features                        |\n",
            "+------+------+----+----+------+-----------+----------+-------------+-------------+--------------------------------+\n",
            "|Female|Blue  |300 |0.0 |0     |0.0        |0.0       |(1,[0],[1.0])|(4,[0],[1.0])|(7,[0,1,5],[1.0,1.0,300.0])     |\n",
            "|Female|Black |200 |15.1|1     |0.0        |2.0       |(1,[0],[1.0])|(4,[2],[1.0])|[1.0,0.0,0.0,1.0,0.0,200.0,15.1]|\n",
            "|Male  |Red   |100 |12.4|0     |1.0        |3.0       |(1,[],[])    |(4,[3],[1.0])|(7,[4,5,6],[1.0,100.0,12.4])    |\n",
            "|Female|Green |100 |0.0 |1     |0.0        |1.0       |(1,[0],[1.0])|(4,[1],[1.0])|(7,[0,2,5],[1.0,1.0,100.0])     |\n",
            "|Female|Blue  |200 |0.0 |0     |0.0        |0.0       |(1,[0],[1.0])|(4,[0],[1.0])|(7,[0,1,5],[1.0,1.0,200.0])     |\n",
            "|Male  |Green |400 |20.0|1     |1.0        |1.0       |(1,[],[])    |(4,[1],[1.0])|(7,[2,5,6],[1.0,400.0,20.0])    |\n",
            "|Male  |Yellow|400 |20.0|1     |1.0        |4.0       |(1,[],[])    |(4,[],[])    |(7,[5,6],[400.0,20.0])          |\n",
            "+------+------+----+----+------+-----------+----------+-------------+-------------+--------------------------------+\n",
            "\n"
          ]
        }
      ]
    },
    {
      "cell_type": "code",
      "source": [],
      "metadata": {
        "id": "vAdNIUhXhgXh"
      },
      "execution_count": null,
      "outputs": []
    }
  ]
}