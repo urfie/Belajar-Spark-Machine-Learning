{
  "nbformat": 4,
  "nbformat_minor": 0,
  "metadata": {
    "colab": {
      "provenance": []
    },
    "kernelspec": {
      "name": "python3",
      "display_name": "Python 3"
    }
  },
  "cells": [
    {
      "cell_type": "markdown",
      "source": [
        "#MLlib Basic - Data Transformation\n"
      ],
      "metadata": {
        "id": "H6baN9TM6tjq"
      }
    },
    {
      "cell_type": "code",
      "metadata": {
        "id": "fdNhPxh_ZLBW"
      },
      "source": [
        "#do this for Google Colab\n",
        "%pip install pyspark"
      ],
      "execution_count": null,
      "outputs": []
    },
    {
      "cell_type": "markdown",
      "source": [
        "Tiga komponen yang sering digunakan dalam melakukan feature encoding, yaitu `StringIndexer`, `OneHotEncoder`, dan `VectorAssembler`"
      ],
      "metadata": {
        "id": "VYFTsL1L6sik"
      }
    },
    {
      "cell_type": "code",
      "source": [
        "#import necessary packages\n",
        "import pyspark\n",
        "from pyspark.sql import SparkSession\n",
        "from pyspark.ml import Pipeline\n",
        "from pyspark.ml.feature import StringIndexer\n",
        "from pyspark.ml.feature import OneHotEncoder\n",
        "from pyspark.ml.feature import VectorAssembler\n"
      ],
      "metadata": {
        "id": "nF1Na4eaKGBd"
      },
      "execution_count": null,
      "outputs": []
    },
    {
      "cell_type": "code",
      "metadata": {
        "id": "bv1u5p7sa6fa"
      },
      "source": [
        "#Create Spark Session\n",
        "spark = SparkSession.builder.appName('MlLib Basics').getOrCreate()"
      ],
      "execution_count": null,
      "outputs": []
    },
    {
      "cell_type": "code",
      "metadata": {
        "id": "-0vRjUHCfZ4Y"
      },
      "source": [
        "df = spark.createDataFrame( [(0, \"Male\"),\n",
        "                             (1, \"Male\"),\n",
        "                             (2, \"Female\"),\n",
        "                             (3, \"Female\"),\n",
        "                             (4, \"Female\"),\n",
        "                             (5, \"Male\")\n",
        "                          ], [\"id\", \"gender\"])\n",
        "\n",
        "df.show()\n",
        "\n"
      ],
      "execution_count": null,
      "outputs": []
    },
    {
      "cell_type": "markdown",
      "source": [
        "Kita akan melakukan proses String indexing, yaitu meng-assign indeks ke masing-masing kategori. Dalam hal ini `Female` = 0, dan `Male` = 1"
      ],
      "metadata": {
        "id": "oHDPyd4vv2gC"
      }
    },
    {
      "cell_type": "code",
      "source": [
        "#Indexer\n",
        "indexer = StringIndexer(inputCol=\"gender\", outputCol=\"genderIndexed\")\n",
        "indexed = indexer.fit(df).transform(df)\n",
        "indexed.show()\n"
      ],
      "metadata": {
        "id": "IOHBN7XPv0F2"
      },
      "execution_count": null,
      "outputs": []
    },
    {
      "cell_type": "markdown",
      "source": [
        "Selanjutnya kategori yang terindeks itu kita encode dengan menggunakan metode dummy encoding, yaitu mentransformasi variabel kategorik berkardinal N menjadi binary string berukuran N-1.\n",
        "\n",
        "Dalam hal ini, gender kardinalitasnya = 2, sehingga vektor yang dihasilkan berukuran **2 - 1 = 1**"
      ],
      "metadata": {
        "id": "o5v9_i-mwsbu"
      }
    },
    {
      "cell_type": "code",
      "source": [
        "encoder = OneHotEncoder(inputCols=[\"genderIndexed\"],\n",
        "                        outputCols=[\"genderEncoded\"])\n",
        "encoded = encoder.fit(indexed).transform(indexed)\n",
        "encoded.show()"
      ],
      "metadata": {
        "id": "k-jpULu4wEYv"
      },
      "execution_count": null,
      "outputs": []
    },
    {
      "cell_type": "markdown",
      "source": [
        "Vektor yang dihasilkan adalah vektor sparse, yaitu vektor yang mayoritas nilainya 0. Vektor dinyatakan dalam tupel `(panjang_vektor, [indeks nonzero], [nilai kolom nonzero])`\n",
        "\n",
        "Misalnya pada contoh di atas\n",
        "`(1,[],[])` berarti vektor 1 elemen tanpa nilai nonzero alias `[0]`\n",
        "`(1,[0],[1.0])` berarti vektor `[1.0]`"
      ],
      "metadata": {
        "id": "vSLAFj4Dwtge"
      }
    },
    {
      "cell_type": "code",
      "metadata": {
        "id": "z-IcXMsiczEq"
      },
      "source": [
        "df = spark.createDataFrame( [(\"Female\", \"Blue\", 300, 0.0, 0),\n",
        "                             (\"Female\", \"Black\", 200, 15.1, 1),\n",
        "                             (\"Male\", \"Red\", 100, 12.4, 0),\n",
        "                             (\"Female\", \"Green\", 100, 0.0, 1),\n",
        "                             (\"Female\", \"Blue\", 200, 0.0, 0),\n",
        "                             (\"Male\", \"Green\", 400, 20.0, 1),\n",
        "                              (\"Male\", \"Yellow\", 400, 20.0, 1)],\n",
        "                            [\"gender\", \"color\", \"num1\", \"num2\", \"target\"])\n",
        "\n",
        "df.show()\n",
        "\n",
        "indexer_1 = StringIndexer(inputCol=\"gender\", outputCol=\"genderIndex\")\n",
        "indexed_1 = indexer_1.fit(df).transform(df)\n",
        "indexed_1.show()\n",
        "\n",
        "indexer_2 = StringIndexer(inputCol=\"color\", outputCol=\"colorIndex\")\n",
        "indexed_2 = indexer_2.fit(indexed_1).transform(indexed_1)\n",
        "indexed_2.show()\n",
        "\n",
        "\n",
        "encoder_1 = OneHotEncoder(inputCols=[\"genderIndex\"],\n",
        "                        outputCols=[\"genderEncoded\"])\n",
        "encoded_1 = encoder_1.fit(indexed_2).transform(indexed_2)\n",
        "encoded_1.show()\n",
        "\n",
        "encoder_2 = OneHotEncoder(inputCols=[\"colorIndex\"],\n",
        "                        outputCols=[\"colorEncoded\"])\n",
        "encoded_2 = encoder_2.fit(encoded_1).transform(encoded_1)\n",
        "encoded_2.show()"
      ],
      "execution_count": null,
      "outputs": []
    },
    {
      "cell_type": "markdown",
      "source": [
        "Vector assembler digunakan untuk menggabungkan vektor-vektor hasil encoding menjadi sebuah vektor.\n",
        "\n",
        "Dalam hal ini, hasil penggabungan berukuran 1 + 4 + 2, yaitu kolom `gender`, 4 kolom `color`, dan 2 kolom numerik (`num1` dan `num2`)"
      ],
      "metadata": {
        "id": "vyjwJ2mGxmzu"
      }
    },
    {
      "cell_type": "code",
      "metadata": {
        "id": "4YZ873ExwIjj"
      },
      "source": [
        "#Assemble the vectors into 1 features vector, using VectorAssembler transformator\n",
        "assembler = VectorAssembler(\n",
        "    inputCols=[\"genderEncoded\", \"colorEncoded\", \"num1\", \"num2\"],\n",
        "    outputCol=\"features\")\n",
        "\n",
        "output = assembler.transform(encoded_2)\n",
        "output.show(truncate=False)"
      ],
      "execution_count": null,
      "outputs": []
    },
    {
      "cell_type": "markdown",
      "source": [
        "Proses di atas dapat kita rangkai menjadi satu workflow dengan menggunakan `Pipeline`."
      ],
      "metadata": {
        "id": "njfTKw_NyJg8"
      }
    },
    {
      "cell_type": "code",
      "metadata": {
        "id": "HdZbCidYj3pl"
      },
      "source": [
        "#Create the same process with Pipeline\n",
        "\n",
        "indexer_1 = StringIndexer(inputCol=\"gender\", outputCol=\"genderIndex\")\n",
        "indexer_2 = StringIndexer(inputCol=\"color\", outputCol=\"colorIndex\")\n",
        "indexers = [indexer_1, indexer_2]\n",
        "\n",
        "encoder_1 = OneHotEncoder(inputCols=[\"genderIndex\"], outputCols=[\"genderEncoded\"])\n",
        "encoder_2 = OneHotEncoder(inputCols=[\"colorIndex\"], outputCols=[\"colorEncoded\"])\n",
        "encoders = [encoder_1, encoder_2]\n",
        "\n",
        "assembler = VectorAssembler(inputCols=[\"genderEncoded\", \"colorEncoded\", \"num1\", \"num2\"], outputCol=\"features\")\n",
        "\n",
        "pipeline = Pipeline(stages=indexers + encoders + [assembler])"
      ],
      "execution_count": null,
      "outputs": []
    },
    {
      "cell_type": "code",
      "source": [
        "model=pipeline.fit(df)\n",
        "data = model.transform(df)\n",
        "\n",
        "data.show(truncate=False)"
      ],
      "metadata": {
        "id": "dEOrX24ryVoQ"
      },
      "execution_count": null,
      "outputs": []
    },
    {
      "cell_type": "code",
      "source": [],
      "metadata": {
        "id": "vAdNIUhXhgXh"
      },
      "execution_count": null,
      "outputs": []
    }
  ]
}