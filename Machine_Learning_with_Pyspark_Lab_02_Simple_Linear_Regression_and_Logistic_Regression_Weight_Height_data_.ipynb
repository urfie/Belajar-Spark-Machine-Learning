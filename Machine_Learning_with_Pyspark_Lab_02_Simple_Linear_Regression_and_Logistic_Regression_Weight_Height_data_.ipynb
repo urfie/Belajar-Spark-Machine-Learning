{
  "nbformat": 4,
  "nbformat_minor": 0,
  "metadata": {
    "colab": {
      "provenance": []
    },
    "kernelspec": {
      "name": "python3",
      "display_name": "Python 3"
    },
    "language_info": {
      "name": "python"
    }
  },
  "cells": [
    {
      "cell_type": "markdown",
      "metadata": {
        "id": "vs_KZwpBgO99"
      },
      "source": [
        "#Linear Regression\n",
        "\n",
        "Simple linear regression with 1 variable\n",
        "\n",
        "The data : Gender, Height (inch), weight (lbs)"
      ]
    },
    {
      "cell_type": "code",
      "metadata": {
        "colab": {
          "base_uri": "https://localhost:8080/"
        },
        "id": "KrNYrZBKgM9u",
        "outputId": "fc66b8f4-3dc5-40f7-e159-0962497ab95d"
      },
      "source": [
        "!wget https://gist.githubusercontent.com/nstokoe/7d4717e96c21b8ad04ec91f361b000cb/raw/bf95a2e30fceb9f2ae990eac8379fc7d844a0196/weight-height.csv"
      ],
      "execution_count": 1,
      "outputs": [
        {
          "output_type": "stream",
          "name": "stdout",
          "text": [
            "--2023-06-23 01:09:45--  https://gist.githubusercontent.com/nstokoe/7d4717e96c21b8ad04ec91f361b000cb/raw/bf95a2e30fceb9f2ae990eac8379fc7d844a0196/weight-height.csv\n",
            "Resolving gist.githubusercontent.com (gist.githubusercontent.com)... 185.199.110.133, 185.199.108.133, 185.199.111.133, ...\n",
            "Connecting to gist.githubusercontent.com (gist.githubusercontent.com)|185.199.110.133|:443... connected.\n",
            "HTTP request sent, awaiting response... 200 OK\n",
            "Length: 418120 (408K) [text/plain]\n",
            "Saving to: ‘weight-height.csv’\n",
            "\n",
            "weight-height.csv   100%[===================>] 408.32K  --.-KB/s    in 0.04s   \n",
            "\n",
            "2023-06-23 01:09:45 (9.36 MB/s) - ‘weight-height.csv’ saved [418120/418120]\n",
            "\n"
          ]
        }
      ]
    },
    {
      "cell_type": "markdown",
      "source": [
        "##Instal package"
      ],
      "metadata": {
        "id": "FXAzaDghywBr"
      }
    },
    {
      "cell_type": "code",
      "metadata": {
        "colab": {
          "base_uri": "https://localhost:8080/"
        },
        "id": "lV6Diax5M0T8",
        "outputId": "9e3cc32d-b2df-4554-bce4-6c65057f047c"
      },
      "source": [
        "!pip install pyspark"
      ],
      "execution_count": 2,
      "outputs": [
        {
          "output_type": "stream",
          "name": "stdout",
          "text": [
            "Looking in indexes: https://pypi.org/simple, https://us-python.pkg.dev/colab-wheels/public/simple/\n",
            "Collecting pyspark\n",
            "  Downloading pyspark-3.4.0.tar.gz (310.8 MB)\n",
            "\u001b[2K     \u001b[90m━━━━━━━━━━━━━━━━━━━━━━━━━━━━━━━━━━━━━━━\u001b[0m \u001b[32m310.8/310.8 MB\u001b[0m \u001b[31m4.3 MB/s\u001b[0m eta \u001b[36m0:00:00\u001b[0m\n",
            "\u001b[?25h  Preparing metadata (setup.py) ... \u001b[?25l\u001b[?25hdone\n",
            "Requirement already satisfied: py4j==0.10.9.7 in /usr/local/lib/python3.10/dist-packages (from pyspark) (0.10.9.7)\n",
            "Building wheels for collected packages: pyspark\n",
            "  Building wheel for pyspark (setup.py) ... \u001b[?25l\u001b[?25hdone\n",
            "  Created wheel for pyspark: filename=pyspark-3.4.0-py2.py3-none-any.whl size=311317130 sha256=da9b2c300748369827147d71dbcf0f3b9d763ea28b71265e5c4f9a428bc2ffa4\n",
            "  Stored in directory: /root/.cache/pip/wheels/7b/1b/4b/3363a1d04368e7ff0d408e57ff57966fcdf00583774e761327\n",
            "Successfully built pyspark\n",
            "Installing collected packages: pyspark\n",
            "Successfully installed pyspark-3.4.0\n"
          ]
        }
      ]
    },
    {
      "cell_type": "code",
      "metadata": {
        "id": "iO3_dsRRhsqQ"
      },
      "source": [
        "import pyspark\n",
        "from pyspark.sql import SparkSession\n",
        "spark = SparkSession.builder.appName('MlLib - Machine Learning').getOrCreate()"
      ],
      "execution_count": 3,
      "outputs": []
    },
    {
      "cell_type": "markdown",
      "source": [
        "##Loading data"
      ],
      "metadata": {
        "id": "9M_6covEyzoU"
      }
    },
    {
      "cell_type": "code",
      "metadata": {
        "id": "c9Y_VAR3l5xg"
      },
      "source": [
        "df = spark.read.csv(path='weight-height.csv', sep=',', header = True, inferSchema = True)"
      ],
      "execution_count": 4,
      "outputs": []
    },
    {
      "cell_type": "markdown",
      "source": [
        "##Eksplorasi"
      ],
      "metadata": {
        "id": "VhWiCOPLy7cy"
      }
    },
    {
      "cell_type": "code",
      "metadata": {
        "colab": {
          "base_uri": "https://localhost:8080/"
        },
        "id": "PnC8U37CmCS7",
        "outputId": "f19ae960-cd78-4dd8-fc09-1e1d4382f024"
      },
      "source": [
        "df.printSchema()\n",
        "df.show(5)\n",
        "df.describe().show()"
      ],
      "execution_count": 5,
      "outputs": [
        {
          "output_type": "stream",
          "name": "stdout",
          "text": [
            "root\n",
            " |-- Gender: string (nullable = true)\n",
            " |-- Height: double (nullable = true)\n",
            " |-- Weight: double (nullable = true)\n",
            "\n",
            "+------+----------------+----------------+\n",
            "|Gender|          Height|          Weight|\n",
            "+------+----------------+----------------+\n",
            "|  Male| 73.847017017515|241.893563180437|\n",
            "|  Male|68.7819040458903|  162.3104725213|\n",
            "|  Male|74.1101053917849|  212.7408555565|\n",
            "|  Male|71.7309784033377|220.042470303077|\n",
            "|  Male|69.8817958611153|206.349800623871|\n",
            "+------+----------------+----------------+\n",
            "only showing top 5 rows\n",
            "\n",
            "+-------+------+-----------------+------------------+\n",
            "|summary|Gender|           Height|            Weight|\n",
            "+-------+------+-----------------+------------------+\n",
            "|  count| 10000|            10000|             10000|\n",
            "|   mean|  null|66.36755975482106|161.44035683283076|\n",
            "| stddev|  null|3.847528120773333|32.108439006519674|\n",
            "|    min|Female| 54.2631333250971|   64.700126712753|\n",
            "|    max|  Male| 78.9987423463896|  269.989698505106|\n",
            "+-------+------+-----------------+------------------+\n",
            "\n"
          ]
        }
      ]
    },
    {
      "cell_type": "markdown",
      "metadata": {
        "id": "7Riuj3Xsw7QE"
      },
      "source": [
        "First we plot the data with `scatterplot`. Since the data is quite big, we will sample 100 data point randomly using dataframe's `sample` function."
      ]
    },
    {
      "cell_type": "code",
      "metadata": {
        "colab": {
          "base_uri": "https://localhost:8080/",
          "height": 467
        },
        "id": "B9xcVvbhsIbW",
        "outputId": "7440ecea-7a7e-4a50-8178-30bfcbdaf41a"
      },
      "source": [
        "import seaborn as sns\n",
        "import pandas as pd\n",
        "\n",
        "sample = df.sample(fraction=.01)\n",
        "pdf = sample.toPandas()\n",
        "\n",
        "sns.regplot(x='Weight', y='Height', data=pdf)\n",
        "#sns.scatterplot(x='Weight', y='Height', data=pdf)"
      ],
      "execution_count": 6,
      "outputs": [
        {
          "output_type": "execute_result",
          "data": {
            "text/plain": [
              "<Axes: xlabel='Weight', ylabel='Height'>"
            ]
          },
          "metadata": {},
          "execution_count": 6
        },
        {
          "output_type": "display_data",
          "data": {
            "text/plain": [
              "<Figure size 640x480 with 1 Axes>"
            ],
            "image/png": "[encoded data removed]"
          },
          "metadata": {}
        }
      ]
    },
    {
      "cell_type": "code",
      "metadata": {
        "colab": {
          "base_uri": "https://localhost:8080/"
        },
        "id": "yp3g-Vo0mIFM",
        "outputId": "ec677a47-51ef-4878-9c68-1fdc7a4c28d3"
      },
      "source": [
        "df_selected = df.select([\"Weight\", \"Height\"])\n",
        "df_selected.show(5)"
      ],
      "execution_count": 7,
      "outputs": [
        {
          "output_type": "stream",
          "name": "stdout",
          "text": [
            "+----------------+----------------+\n",
            "|          Weight|          Height|\n",
            "+----------------+----------------+\n",
            "|241.893563180437| 73.847017017515|\n",
            "|  162.3104725213|68.7819040458903|\n",
            "|  212.7408555565|74.1101053917849|\n",
            "|220.042470303077|71.7309784033377|\n",
            "|206.349800623871|69.8817958611153|\n",
            "+----------------+----------------+\n",
            "only showing top 5 rows\n",
            "\n"
          ]
        }
      ]
    },
    {
      "cell_type": "code",
      "metadata": {
        "id": "asvjq3HlnWSJ"
      },
      "source": [
        "from pyspark.sql.functions import col\n",
        "\n",
        "features = ['Weight']\n",
        "label = 'Height'\n",
        "\n",
        "df_selected = df.select(*features, col(label).alias(\"label\"))\n",
        "(training, test) = df_selected.randomSplit([.7, .3])"
      ],
      "execution_count": 8,
      "outputs": []
    },
    {
      "cell_type": "code",
      "metadata": {
        "colab": {
          "base_uri": "https://localhost:8080/"
        },
        "id": "H7vNSciqoTNW",
        "outputId": "77862eaa-03bb-45df-90d5-9c732916ffdc"
      },
      "source": [
        "from pyspark.ml.feature import VectorAssembler\n",
        "\n",
        "vectorAssembler = VectorAssembler(inputCols=features, outputCol=\"features\")\n",
        "training = vectorAssembler.transform(training)\n",
        "training.show(5, False)"
      ],
      "execution_count": 9,
      "outputs": [
        {
          "output_type": "stream",
          "name": "stdout",
          "text": [
            "+----------------+----------------+------------------+\n",
            "|Weight          |label           |features          |\n",
            "+----------------+----------------+------------------+\n",
            "|68.9825300912419|55.6682021205121|[68.9825300912419]|\n",
            "|71.393748738973 |54.6168578301035|[71.393748738973] |\n",
            "|72.7501446905149|57.353092760465 |[72.7501446905149]|\n",
            "|77.8985592718359|56.1672991862273|[77.8985592718359]|\n",
            "|78.6066703120237|54.8737275315254|[78.6066703120237]|\n",
            "+----------------+----------------+------------------+\n",
            "only showing top 5 rows\n",
            "\n"
          ]
        }
      ]
    },
    {
      "cell_type": "code",
      "metadata": {
        "colab": {
          "base_uri": "https://localhost:8080/"
        },
        "id": "vJ0ZJZEdgkQi",
        "outputId": "35bd138b-b89a-4a0e-cec8-f33a6f074cec"
      },
      "source": [
        "from pyspark.ml.regression import LinearRegression\n",
        "\n",
        "lr = LinearRegression(maxIter=10, regParam=0.3, elasticNetParam=0.8)\n",
        "\n",
        "# Fit the model\n",
        "lrModel = lr.fit(training)\n",
        "\n",
        "# Print the coefficients and intercept for linear regression\n",
        "print(\"Coefficients: %s\" % str(lrModel.coefficients))\n",
        "print(\"Intercept: %s\" % str(lrModel.intercept))\n",
        "\n",
        "# Summarize the model over the training set and print out some metrics\n",
        "trainingSummary = lrModel.summary\n",
        "print(\"numIterations: %d\" % trainingSummary.totalIterations)\n",
        "print(\"objectiveHistory: %s\" % str(trainingSummary.objectiveHistory))\n",
        "trainingSummary.residuals.show(5)\n",
        "print(\"RMSE: %f\" % trainingSummary.rootMeanSquaredError)\n",
        "print(\"r2: %f\" % trainingSummary.r2)"
      ],
      "execution_count": 10,
      "outputs": [
        {
          "output_type": "stream",
          "name": "stdout",
          "text": [
            "Coefficients: [0.10217956968561157]\n",
            "Intercept: 49.870489203562514\n",
            "numIterations: 2\n",
            "objectiveHistory: [0.5, 0.42050726189336074, 0.13451545607882917]\n",
            "+------------------+\n",
            "|         residuals|\n",
            "+------------------+\n",
            "|-1.250892323598265|\n",
            "|-2.548613897849947|\n",
            "|0.0490250778596959|\n",
            "|-1.662831282860516|\n",
            "|-3.028757418938433|\n",
            "+------------------+\n",
            "only showing top 5 rows\n",
            "\n",
            "RMSE: 1.499641\n",
            "r2: 0.848046\n"
          ]
        }
      ]
    },
    {
      "cell_type": "code",
      "metadata": {
        "colab": {
          "base_uri": "https://localhost:8080/"
        },
        "id": "ZHhN3fvmoxbM",
        "outputId": "8a20c6fc-cd4e-43aa-9f34-5a5d77bd4e59"
      },
      "source": [
        "#prediction\n",
        "test = vectorAssembler.transform(test)\n",
        "predictions = lrModel.transform(test)\n",
        "\n",
        "# Select example rows to display.\n",
        "print(\"\\nModel Prediction Result :  \")\n",
        "predictions.select(\"features\",\"label\",\"prediction\").show(5)"
      ],
      "execution_count": 11,
      "outputs": [
        {
          "output_type": "stream",
          "name": "stdout",
          "text": [
            "\n",
            "Model Prediction Result :  \n",
            "+------------------+----------------+------------------+\n",
            "|          features|           label|        prediction|\n",
            "+------------------+----------------+------------------+\n",
            "| [64.700126712753]|54.2631333250971|56.481520309676156|\n",
            "|[77.5237739030693]|58.2116499335358| 57.79183506138278|\n",
            "|[79.1743758333647]|56.7644564465812|57.960492856342604|\n",
            "|[83.9930774713752]|56.7854343692644|58.452865716157866|\n",
            "|[84.8721236452797]|56.5479749809036| 58.54268627594121|\n",
            "+------------------+----------------+------------------+\n",
            "only showing top 5 rows\n",
            "\n"
          ]
        }
      ]
    },
    {
      "cell_type": "code",
      "metadata": {
        "colab": {
          "base_uri": "https://localhost:8080/"
        },
        "id": "dFO9l67OpI1p",
        "outputId": "07a9791e-e998-4cf7-e2d7-0466ebc547c4"
      },
      "source": [
        "from pyspark.ml.evaluation import RegressionEvaluator\n",
        "\n",
        "# Select (prediction, true label) and compute test error\n",
        "evaluator1 = RegressionEvaluator(labelCol=\"label\",\n",
        "                                predictionCol=\"prediction\",\n",
        "                                metricName=\"rmse\")\n",
        "rmse1 = evaluator1.evaluate(predictions)\n",
        "print(\"Root Mean Squared Error (RMSE) on test data = %g\" % rmse1)\n",
        "\n",
        "evaluator2 = RegressionEvaluator(labelCol=\"label\",\n",
        "                                predictionCol=\"prediction\",\n",
        "                                metricName=\"r2\")\n",
        "r21 = evaluator2.evaluate(predictions)\n",
        "print(\"R-Squared on test data = %g\" % r21)\n"
      ],
      "execution_count": 12,
      "outputs": [
        {
          "output_type": "stream",
          "name": "stdout",
          "text": [
            "Root Mean Squared Error (RMSE) on test data = 1.46741\n",
            "R-Squared on test data = 0.854538\n"
          ]
        }
      ]
    },
    {
      "cell_type": "markdown",
      "metadata": {
        "id": "hOa5GfX8xXSY"
      },
      "source": [
        "We can consider other variable (in this case 'Gender') as additional input variable to predict height. First let's plot the data.\n",
        "We will use the same sample data we took from before."
      ]
    },
    {
      "cell_type": "code",
      "metadata": {
        "colab": {
          "base_uri": "https://localhost:8080/",
          "height": 467
        },
        "id": "PbL9QMdMxWN-",
        "outputId": "e36dfcd3-d8f2-4072-9099-24a7e1ec75e0"
      },
      "source": [
        "sns.scatterplot(x=\"Weight\", y=\"Height\", hue=\"Gender\", data=pdf)"
      ],
      "execution_count": 13,
      "outputs": [
        {
          "output_type": "execute_result",
          "data": {
            "text/plain": [
              "<Axes: xlabel='Weight', ylabel='Height'>"
            ]
          },
          "metadata": {},
          "execution_count": 13
        },
        {
          "output_type": "display_data",
          "data": {
            "text/plain": [
              "<Figure size 640x480 with 1 Axes>"
            ],
            "image/png": "[encoded data removed]"
          },
          "metadata": {}
        }
      ]
    },
    {
      "cell_type": "markdown",
      "metadata": {
        "id": "0KGr1zYlzsvX"
      },
      "source": [
        "Split the data into training-test set"
      ]
    },
    {
      "cell_type": "code",
      "metadata": {
        "id": "YdtrjFNkzvXq"
      },
      "source": [
        "features = ['Weight', 'Gender']\n",
        "label = 'Height'\n",
        "\n",
        "(training_, test_) = df.randomSplit([.7, .3])"
      ],
      "execution_count": 14,
      "outputs": []
    },
    {
      "cell_type": "markdown",
      "metadata": {
        "id": "8PpsUAGXeYiY"
      },
      "source": [
        "Since Gender is a categorical variable, we need to transform it to numeric using `StringIndexer` and `OneHotEncoder`"
      ]
    },
    {
      "cell_type": "code",
      "metadata": {
        "colab": {
          "base_uri": "https://localhost:8080/"
        },
        "id": "4rKXgepreNp4",
        "outputId": "4984fc37-7088-4feb-c8f9-92f85853a08b"
      },
      "source": [
        "from pyspark.ml import Pipeline\n",
        "from pyspark.ml.feature import StringIndexer, OneHotEncoder, VectorAssembler\n",
        "from pyspark.sql.functions import col\n",
        "\n",
        "indexer = StringIndexer(inputCol=\"Gender\", outputCol=\"Gender_idx\")\n",
        "\n",
        "# default setting: dropLast=True\n",
        "encoder = OneHotEncoder(inputCol=\"Gender_idx\",\n",
        "      outputCol=\"Gender_encoded\".format(indexer.getOutputCol()))\n",
        "\n",
        "assembler = VectorAssembler(inputCols=[\"Weight\", \"Gender_encoded\"], outputCol=\"features\")\n",
        "\n",
        "pipeline = Pipeline(stages=[indexer, encoder, assembler])\n",
        "model = pipeline.fit(training_)\n",
        "output = model.transform(training_)\n",
        "\n",
        "output.show(5)\n",
        "\n",
        "training = output.select(\"features\", col(label).alias(\"label\"))\n",
        "training.show(5)"
      ],
      "execution_count": 15,
      "outputs": [
        {
          "output_type": "stream",
          "name": "stdout",
          "text": [
            "+------+----------------+----------------+----------+--------------+--------------------+\n",
            "|Gender|          Height|          Weight|Gender_idx|Gender_encoded|            features|\n",
            "+------+----------------+----------------+----------+--------------+--------------------+\n",
            "|Female|54.6168578301035| 71.393748738973|       1.0|     (1,[],[])|[71.393748738973,...|\n",
            "|Female|54.8737275315254|78.6066703120237|       1.0|     (1,[],[])|[78.6066703120237...|\n",
            "|Female|55.1485573624105| 88.812412112758|       1.0|     (1,[],[])|[88.812412112758,...|\n",
            "|Female|55.6518916024929|85.6217764414627|       1.0|     (1,[],[])|[85.6217764414627...|\n",
            "|Female|55.6682021205121|68.9825300912419|       1.0|     (1,[],[])|[68.9825300912419...|\n",
            "+------+----------------+----------------+----------+--------------+--------------------+\n",
            "only showing top 5 rows\n",
            "\n",
            "+--------------------+----------------+\n",
            "|            features|           label|\n",
            "+--------------------+----------------+\n",
            "|[71.393748738973,...|54.6168578301035|\n",
            "|[78.6066703120237...|54.8737275315254|\n",
            "|[88.812412112758,...|55.1485573624105|\n",
            "|[85.6217764414627...|55.6518916024929|\n",
            "|[68.9825300912419...|55.6682021205121|\n",
            "+--------------------+----------------+\n",
            "only showing top 5 rows\n",
            "\n"
          ]
        }
      ]
    },
    {
      "cell_type": "code",
      "metadata": {
        "colab": {
          "base_uri": "https://localhost:8080/"
        },
        "id": "Pwl6Jc9VgEvy",
        "outputId": "13d4a828-b26c-417c-b550-6ea3426dfe88"
      },
      "source": [
        "lr = LinearRegression(maxIter=10, regParam=0.3, elasticNetParam=0.8)\n",
        "\n",
        "# Fit the model\n",
        "lrModel = lr.fit(training)\n",
        "\n",
        "# Print the coefficients and intercept for linear regression\n",
        "print(\"Coefficients: %s\" % str(lrModel.coefficients))\n",
        "print(\"Intercept: %s\" % str(lrModel.intercept))\n",
        "\n",
        "# Summarize the model over the training set and print out some metrics\n",
        "trainingSummary = lrModel.summary\n",
        "print(\"numIterations: %d\" % trainingSummary.totalIterations)\n",
        "print(\"objectiveHistory: %s\" % str(trainingSummary.objectiveHistory))\n",
        "trainingSummary.residuals.show(5)\n",
        "print(\"RMSE: %f\" % trainingSummary.rootMeanSquaredError)\n",
        "print(\"r2: %f\" % trainingSummary.r2)"
      ],
      "execution_count": 16,
      "outputs": [
        {
          "output_type": "stream",
          "name": "stdout",
          "text": [
            "Coefficients: [0.1016752791489707,0.0]\n",
            "Intercept: 49.95113364039244\n",
            "numIterations: 10\n",
            "objectiveHistory: [0.4999999999999716, 0.4051574947620004, 0.16902239069894942, 0.1599229379500283, 0.13966842461537068, 0.13535369390293292, 0.1350023922566711, 0.1349840805848242, 0.13498312608512347, 0.1349830763316205, 0.13498307373824392]\n",
            "+-------------------+\n",
            "|          residuals|\n",
            "+-------------------+\n",
            "| -2.593255142815501|\n",
            "|-3.0697612558131624|\n",
            "|-3.8326030714400403|\n",
            "|-3.0048600588160213|\n",
            "|-1.2967495233096358|\n",
            "+-------------------+\n",
            "only showing top 5 rows\n",
            "\n",
            "RMSE: 1.497850\n",
            "r2: 0.847412\n"
          ]
        }
      ]
    },
    {
      "cell_type": "code",
      "metadata": {
        "colab": {
          "base_uri": "https://localhost:8080/"
        },
        "id": "kGSmB0EZiBL0",
        "outputId": "a18a2f8e-a2a9-4c60-ae07-75af6a332a2d"
      },
      "source": [
        "#prediction\n",
        "output = model.transform(test_)\n",
        "test = output.select(\"features\", col(label).alias(\"label\"))\n",
        "test.show(5, truncate=False)\n",
        "\n",
        "\n",
        "predictions = lrModel.transform(test)\n",
        "\n",
        "# Select example rows to display.\n",
        "print(\"\\nModel Prediction Result :  \")\n",
        "predictions.select(\"features\",\"label\",\"prediction\").show(5)"
      ],
      "execution_count": 17,
      "outputs": [
        {
          "output_type": "stream",
          "name": "stdout",
          "text": [
            "+----------------------+----------------+\n",
            "|features              |label           |\n",
            "+----------------------+----------------+\n",
            "|[64.700126712753,0.0] |54.2631333250971|\n",
            "|[88.3665825783999,0.0]|55.336492408949 |\n",
            "|[90.8152556552271,0.0]|56.1594580191187|\n",
            "|[97.7438964834685,0.0]|56.5341658080891|\n",
            "|[79.1743758333647,0.0]|56.7644564465812|\n",
            "+----------------------+----------------+\n",
            "only showing top 5 rows\n",
            "\n",
            "\n",
            "Model Prediction Result :  \n",
            "+--------------------+----------------+------------------+\n",
            "|            features|           label|        prediction|\n",
            "+--------------------+----------------+------------------+\n",
            "|[64.700126712753,...|54.2631333250971|56.529537084885376|\n",
            "|[88.3665825783999...| 55.336492408949| 58.93583059149182|\n",
            "|[90.8152556552271...|56.1594580191187|59.184800110122794|\n",
            "|[97.7438964834685...|56.5341658080891|  59.8892716004572|\n",
            "|[79.1743758333647...|56.7644564465812|58.001210404695314|\n",
            "+--------------------+----------------+------------------+\n",
            "only showing top 5 rows\n",
            "\n"
          ]
        }
      ]
    },
    {
      "cell_type": "code",
      "metadata": {
        "colab": {
          "base_uri": "https://localhost:8080/"
        },
        "id": "UQ67ArWNiRgD",
        "outputId": "50416ee8-34d6-42e9-e759-142d557967a7"
      },
      "source": [
        "from pyspark.ml.evaluation import RegressionEvaluator\n",
        "\n",
        "# Select (prediction, true label) and compute test error\n",
        "evaluator1 = RegressionEvaluator(labelCol=\"label\",\n",
        "                                predictionCol=\"prediction\",\n",
        "                                metricName=\"rmse\")\n",
        "rmse1 = evaluator1.evaluate(predictions)\n",
        "print(\"Root Mean Squared Error (RMSE) on test data = %g\" % rmse1)\n",
        "\n",
        "evaluator2 = RegressionEvaluator(labelCol=\"label\",\n",
        "                                predictionCol=\"prediction\",\n",
        "                                metricName=\"r2\")\n",
        "r21 = evaluator2.evaluate(predictions)\n",
        "print(\"R-Squared on test data = %g\" % r21)\n"
      ],
      "execution_count": 18,
      "outputs": [
        {
          "output_type": "stream",
          "name": "stdout",
          "text": [
            "Root Mean Squared Error (RMSE) on test data = 1.48244\n",
            "R-Squared on test data = 0.853797\n"
          ]
        }
      ]
    }
  ]
}