{
  "nbformat": 4,
  "nbformat_minor": 0,
  "metadata": {
    "colab": {
      "provenance": [],
      "toc_visible": true
    },
    "kernelspec": {
      "name": "python3",
      "display_name": "Python 3"
    },
    "language_info": {
      "name": "python"
    }
  },
  "cells": [
    {
      "cell_type": "markdown",
      "metadata": {
        "id": "vs_KZwpBgO99"
      },
      "source": [
        "# Simple Linear Regression : 1 variable\n",
        "\n",
        "Simple linear regression with 1 variable\n",
        "\n",
        "The data : Gender, Height (inch), weight (lbs)"
      ]
    },
    {
      "cell_type": "code",
      "metadata": {
        "colab": {
          "base_uri": "https://localhost:8080/"
        },
        "id": "KrNYrZBKgM9u",
        "outputId": "298d99da-c63f-4bc5-8ba4-05a92f9deff6"
      },
      "source": [
        "!wget https://gist.githubusercontent.com/nstokoe/7d4717e96c21b8ad04ec91f361b000cb/raw/bf95a2e30fceb9f2ae990eac8379fc7d844a0196/weight-height.csv"
      ],
      "execution_count": 1,
      "outputs": [
        {
          "output_type": "stream",
          "name": "stdout",
          "text": [
            "--2024-05-31 11:14:51--  https://gist.githubusercontent.com/nstokoe/7d4717e96c21b8ad04ec91f361b000cb/raw/bf95a2e30fceb9f2ae990eac8379fc7d844a0196/weight-height.csv\n",
            "Resolving gist.githubusercontent.com (gist.githubusercontent.com)... 185.199.110.133, 185.199.108.133, 185.199.109.133, ...\n",
            "Connecting to gist.githubusercontent.com (gist.githubusercontent.com)|185.199.110.133|:443... connected.\n",
            "HTTP request sent, awaiting response... 200 OK\n",
            "Length: 418120 (408K) [text/plain]\n",
            "Saving to: ‘weight-height.csv’\n",
            "\n",
            "weight-height.csv   100%[===================>] 408.32K  --.-KB/s    in 0.02s   \n",
            "\n",
            "2024-05-31 11:14:51 (16.1 MB/s) - ‘weight-height.csv’ saved [418120/418120]\n",
            "\n"
          ]
        }
      ]
    },
    {
      "cell_type": "markdown",
      "source": [
        "##Instal package"
      ],
      "metadata": {
        "id": "FXAzaDghywBr"
      }
    },
    {
      "cell_type": "code",
      "metadata": {
        "colab": {
          "base_uri": "https://localhost:8080/"
        },
        "id": "lV6Diax5M0T8",
        "outputId": "21e82c1a-d6e0-4cab-b988-98364d0ec4f2"
      },
      "source": [
        "!pip install pyspark"
      ],
      "execution_count": 2,
      "outputs": [
        {
          "output_type": "stream",
          "name": "stdout",
          "text": [
            "Collecting pyspark\n",
            "  Downloading pyspark-3.5.1.tar.gz (317.0 MB)\n",
            "\u001b[2K     \u001b[90m━━━━━━━━━━━━━━━━━━━━━━━━━━━━━━━━━━━━━━━━\u001b[0m \u001b[32m317.0/317.0 MB\u001b[0m \u001b[31m2.0 MB/s\u001b[0m eta \u001b[36m0:00:00\u001b[0m\n",
            "\u001b[?25h  Preparing metadata (setup.py) ... \u001b[?25l\u001b[?25hdone\n",
            "Requirement already satisfied: py4j==0.10.9.7 in /usr/local/lib/python3.10/dist-packages (from pyspark) (0.10.9.7)\n",
            "Building wheels for collected packages: pyspark\n",
            "  Building wheel for pyspark (setup.py) ... \u001b[?25l\u001b[?25hdone\n",
            "  Created wheel for pyspark: filename=pyspark-3.5.1-py2.py3-none-any.whl size=317488491 sha256=d7bad2062054bd1923322c8bd6b2cdecedcd271015b8674c07254dd6827c58da\n",
            "  Stored in directory: /root/.cache/pip/wheels/80/1d/60/2c256ed38dddce2fdd93be545214a63e02fbd8d74fb0b7f3a6\n",
            "Successfully built pyspark\n",
            "Installing collected packages: pyspark\n",
            "Successfully installed pyspark-3.5.1\n"
          ]
        }
      ]
    },
    {
      "cell_type": "code",
      "metadata": {
        "id": "iO3_dsRRhsqQ"
      },
      "source": [
        "import pyspark\n",
        "from pyspark.sql import SparkSession\n",
        "spark = SparkSession.builder.appName('MlLib - Machine Learning').getOrCreate()"
      ],
      "execution_count": 3,
      "outputs": []
    },
    {
      "cell_type": "markdown",
      "source": [
        "##Loading data"
      ],
      "metadata": {
        "id": "9M_6covEyzoU"
      }
    },
    {
      "cell_type": "code",
      "metadata": {
        "id": "c9Y_VAR3l5xg"
      },
      "source": [
        "df = spark.read.csv(path='weight-height.csv', sep=',', header = True, inferSchema = True)"
      ],
      "execution_count": 4,
      "outputs": []
    },
    {
      "cell_type": "markdown",
      "source": [
        "##Eksplorasi"
      ],
      "metadata": {
        "id": "VhWiCOPLy7cy"
      }
    },
    {
      "cell_type": "code",
      "metadata": {
        "colab": {
          "base_uri": "https://localhost:8080/"
        },
        "id": "PnC8U37CmCS7",
        "outputId": "061e4d93-5ae4-4011-fb32-8188581cdbe5"
      },
      "source": [
        "df.printSchema()\n",
        "df.show(5)\n",
        "df.describe().show()"
      ],
      "execution_count": 5,
      "outputs": [
        {
          "output_type": "stream",
          "name": "stdout",
          "text": [
            "root\n",
            " |-- Gender: string (nullable = true)\n",
            " |-- Height: double (nullable = true)\n",
            " |-- Weight: double (nullable = true)\n",
            "\n",
            "+------+----------------+----------------+\n",
            "|Gender|          Height|          Weight|\n",
            "+------+----------------+----------------+\n",
            "|  Male| 73.847017017515|241.893563180437|\n",
            "|  Male|68.7819040458903|  162.3104725213|\n",
            "|  Male|74.1101053917849|  212.7408555565|\n",
            "|  Male|71.7309784033377|220.042470303077|\n",
            "|  Male|69.8817958611153|206.349800623871|\n",
            "+------+----------------+----------------+\n",
            "only showing top 5 rows\n",
            "\n",
            "+-------+------+-----------------+------------------+\n",
            "|summary|Gender|           Height|            Weight|\n",
            "+-------+------+-----------------+------------------+\n",
            "|  count| 10000|            10000|             10000|\n",
            "|   mean|  NULL|66.36755975482106|161.44035683283076|\n",
            "| stddev|  NULL|3.847528120773333|32.108439006519674|\n",
            "|    min|Female| 54.2631333250971|   64.700126712753|\n",
            "|    max|  Male| 78.9987423463896|  269.989698505106|\n",
            "+-------+------+-----------------+------------------+\n",
            "\n"
          ]
        }
      ]
    },
    {
      "cell_type": "markdown",
      "metadata": {
        "id": "7Riuj3Xsw7QE"
      },
      "source": [
        "First we plot the data with `scatterplot`. Since the data is quite big, we will sample 100 data point randomly using dataframe's `sample` function."
      ]
    },
    {
      "cell_type": "code",
      "metadata": {
        "colab": {
          "base_uri": "https://localhost:8080/",
          "height": 486
        },
        "id": "B9xcVvbhsIbW",
        "outputId": "db41008e-bc4b-4b6f-a6e4-57e3ad73ffe6"
      },
      "source": [
        "import seaborn as sns\n",
        "import pandas as pd\n",
        "\n",
        "sample = df.sample(fraction=.01)\n",
        "pdf = sample.toPandas()\n",
        "\n",
        "sns.regplot(x='Weight', y='Height', data=pdf)\n",
        "#sns.scatterplot(x='Weight', y='Height', data=pdf)"
      ],
      "execution_count": 6,
      "outputs": [
        {
          "output_type": "execute_result",
          "data": {
            "text/plain": [
              "<Axes: xlabel='Weight', ylabel='Height'>"
            ]
          },
          "metadata": {},
          "execution_count": 6
        },
        {
          "output_type": "display_data",
          "data": {
            "text/plain": [
              "<Figure size 640x480 with 1 Axes>"
            ],
            "image/png": "[encoded data removed]"
          },
          "metadata": {}
        }
      ]
    },
    {
      "cell_type": "code",
      "metadata": {
        "colab": {
          "base_uri": "https://localhost:8080/"
        },
        "id": "yp3g-Vo0mIFM",
        "outputId": "7f6434f7-2c19-4fc9-cd6f-71f821841206"
      },
      "source": [
        "df_selected = df.select([\"Weight\", \"Height\"])\n",
        "df_selected.show(5)"
      ],
      "execution_count": 7,
      "outputs": [
        {
          "output_type": "stream",
          "name": "stdout",
          "text": [
            "+----------------+----------------+\n",
            "|          Weight|          Height|\n",
            "+----------------+----------------+\n",
            "|241.893563180437| 73.847017017515|\n",
            "|  162.3104725213|68.7819040458903|\n",
            "|  212.7408555565|74.1101053917849|\n",
            "|220.042470303077|71.7309784033377|\n",
            "|206.349800623871|69.8817958611153|\n",
            "+----------------+----------------+\n",
            "only showing top 5 rows\n",
            "\n"
          ]
        }
      ]
    },
    {
      "cell_type": "markdown",
      "source": [
        "## Split Data"
      ],
      "metadata": {
        "id": "Fgp7GOsCYFd-"
      }
    },
    {
      "cell_type": "code",
      "metadata": {
        "id": "asvjq3HlnWSJ"
      },
      "source": [
        "from pyspark.sql.functions import col\n",
        "\n",
        "features = ['Weight']\n",
        "label = 'Height'\n",
        "\n",
        "df_selected = df.select(*features, col(label).alias(\"label\"))\n",
        "(training, test) = df_selected.randomSplit([.7, .3])"
      ],
      "execution_count": 8,
      "outputs": []
    },
    {
      "cell_type": "markdown",
      "source": [
        "## Prepare data"
      ],
      "metadata": {
        "id": "BgkI1x84YHzL"
      }
    },
    {
      "cell_type": "code",
      "metadata": {
        "colab": {
          "base_uri": "https://localhost:8080/"
        },
        "id": "H7vNSciqoTNW",
        "outputId": "c857488d-7f4f-4ca5-90c3-c1075a1eb857"
      },
      "source": [
        "from pyspark.ml.feature import VectorAssembler\n",
        "\n",
        "vectorAssembler = VectorAssembler(inputCols=features, outputCol=\"features\")\n",
        "training = vectorAssembler.transform(training)\n",
        "training.show(5, False)"
      ],
      "execution_count": 9,
      "outputs": [
        {
          "output_type": "stream",
          "name": "stdout",
          "text": [
            "+----------------+----------------+------------------+\n",
            "|Weight          |label           |features          |\n",
            "+----------------+----------------+------------------+\n",
            "|68.9825300912419|55.6682021205121|[68.9825300912419]|\n",
            "|71.393748738973 |54.6168578301035|[71.393748738973] |\n",
            "|72.7501446905149|57.353092760465 |[72.7501446905149]|\n",
            "|77.5237739030693|58.2116499335358|[77.5237739030693]|\n",
            "|78.6066703120237|54.8737275315254|[78.6066703120237]|\n",
            "+----------------+----------------+------------------+\n",
            "only showing top 5 rows\n",
            "\n"
          ]
        }
      ]
    },
    {
      "cell_type": "markdown",
      "source": [
        "## Train Model"
      ],
      "metadata": {
        "id": "Yg3CvtAkYV9R"
      }
    },
    {
      "cell_type": "code",
      "metadata": {
        "colab": {
          "base_uri": "https://localhost:8080/"
        },
        "id": "vJ0ZJZEdgkQi",
        "outputId": "bc3a816d-6a6b-4c7f-a38b-ad6a95516844"
      },
      "source": [
        "from pyspark.ml.regression import LinearRegression\n",
        "\n",
        "lr = LinearRegression(maxIter=10, regParam=0.3, elasticNetParam=0.8)\n",
        "\n",
        "# Fit the model\n",
        "lrModel = lr.fit(training)\n",
        "\n",
        "# Print the coefficients and intercept for linear regression\n",
        "print(\"Coefficients: %s\" % str(lrModel.coefficients))\n",
        "print(\"Intercept: %s\" % str(lrModel.intercept))\n",
        "\n",
        "# Summarize the model over the training set and print out some metrics\n",
        "trainingSummary = lrModel.summary\n",
        "print(\"numIterations: %d\" % trainingSummary.totalIterations)\n",
        "print(\"objectiveHistory: %s\" % str(trainingSummary.objectiveHistory))\n",
        "trainingSummary.residuals.show(5)\n",
        "print(\"RMSE: %f\" % trainingSummary.rootMeanSquaredError)\n",
        "print(\"r2: %f\" % trainingSummary.r2)"
      ],
      "execution_count": 10,
      "outputs": [
        {
          "output_type": "stream",
          "name": "stdout",
          "text": [
            "Coefficients: [0.10131123288629132]\n",
            "Intercept: 50.00434769942381\n",
            "numIterations: 2\n",
            "objectiveHistory: [0.4999999999999716, 0.4205062343626949, 0.13435147683666593]\n",
            "+--------------------+\n",
            "|           residuals|\n",
            "+--------------------+\n",
            "| -1.3248507500711213|\n",
            "| -2.6204785744397725|\n",
            "|-0.02166179021095...|\n",
            "| 0.35327312199394356|\n",
            "| -3.0943588502957695|\n",
            "+--------------------+\n",
            "only showing top 5 rows\n",
            "\n",
            "RMSE: 1.489010\n",
            "r2: 0.848902\n"
          ]
        }
      ]
    },
    {
      "cell_type": "markdown",
      "source": [
        "## Evaluate Model"
      ],
      "metadata": {
        "id": "kVuoHtCNYYdz"
      }
    },
    {
      "cell_type": "code",
      "metadata": {
        "colab": {
          "base_uri": "https://localhost:8080/"
        },
        "id": "ZHhN3fvmoxbM",
        "outputId": "7afd3c8e-8024-4f7b-efd3-a3ddbfb3ee5b"
      },
      "source": [
        "#prediction\n",
        "test = vectorAssembler.transform(test)\n",
        "predictions = lrModel.transform(test)\n",
        "\n",
        "# Select example rows to display.\n",
        "print(\"\\nModel Prediction Result :  \")\n",
        "predictions.select(\"features\",\"label\",\"prediction\").show(5)"
      ],
      "execution_count": 11,
      "outputs": [
        {
          "output_type": "stream",
          "name": "stdout",
          "text": [
            "\n",
            "Model Prediction Result :  \n",
            "+------------------+----------------+------------------+\n",
            "|          features|           label|        prediction|\n",
            "+------------------+----------------+------------------+\n",
            "| [64.700126712753]|54.2631333250971| 56.55919730459209|\n",
            "|[77.8985592718359]|56.1672991862273|57.896346779319344|\n",
            "|[79.1743758333647]|56.7644564465812| 58.02560132810458|\n",
            "|[80.5312593808895]| 56.108902096181| 58.16306887318744|\n",
            "|[83.0268025400783]|57.8309190849284|58.415895427365804|\n",
            "+------------------+----------------+------------------+\n",
            "only showing top 5 rows\n",
            "\n"
          ]
        }
      ]
    },
    {
      "cell_type": "code",
      "metadata": {
        "colab": {
          "base_uri": "https://localhost:8080/"
        },
        "id": "dFO9l67OpI1p",
        "outputId": "8e6c1508-a42d-472a-f0e4-e05edacc0e86"
      },
      "source": [
        "from pyspark.ml.evaluation import RegressionEvaluator\n",
        "\n",
        "# Select (prediction, true label) and compute test error\n",
        "evaluator1 = RegressionEvaluator(labelCol=\"label\",\n",
        "                                predictionCol=\"prediction\",\n",
        "                                metricName=\"rmse\")\n",
        "rmse1 = evaluator1.evaluate(predictions)\n",
        "print(\"Root Mean Squared Error (RMSE) on test data = %g\" % rmse1)\n",
        "\n",
        "evaluator2 = RegressionEvaluator(labelCol=\"label\",\n",
        "                                predictionCol=\"prediction\",\n",
        "                                metricName=\"r2\")\n",
        "r21 = evaluator2.evaluate(predictions)\n",
        "print(\"R-Squared on test data = %g\" % r21)\n"
      ],
      "execution_count": 12,
      "outputs": [
        {
          "output_type": "stream",
          "name": "stdout",
          "text": [
            "Root Mean Squared Error (RMSE) on test data = 1.51063\n",
            "R-Squared on test data = 0.848787\n"
          ]
        }
      ]
    }
  ]
}
